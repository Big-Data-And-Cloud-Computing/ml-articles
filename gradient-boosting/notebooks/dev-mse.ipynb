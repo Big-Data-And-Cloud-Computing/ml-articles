{
 "cells": [
  {
   "cell_type": "markdown",
   "metadata": {},
   "source": [
    "# Mean squared error boosting"
   ]
  },
  {
   "cell_type": "code",
   "execution_count": 1,
   "metadata": {},
   "outputs": [],
   "source": [
    "from support import *"
   ]
  },
  {
   "cell_type": "code",
   "execution_count": 2,
   "metadata": {},
   "outputs": [
    {
     "data": {
      "text/html": [
       "<div>\n",
       "<style scoped>\n",
       "    .dataframe tbody tr th:only-of-type {\n",
       "        vertical-align: middle;\n",
       "    }\n",
       "\n",
       "    .dataframe tbody tr th {\n",
       "        vertical-align: top;\n",
       "    }\n",
       "\n",
       "    .dataframe thead th {\n",
       "        text-align: right;\n",
       "    }\n",
       "</style>\n",
       "<table border=\"1\" class=\"dataframe\">\n",
       "  <thead>\n",
       "    <tr style=\"text-align: right;\">\n",
       "      <th></th>\n",
       "      <th>sqfeet</th>\n",
       "      <th>rent</th>\n",
       "    </tr>\n",
       "  </thead>\n",
       "  <tbody>\n",
       "    <tr>\n",
       "      <th>0</th>\n",
       "      <td>750</td>\n",
       "      <td>1160</td>\n",
       "    </tr>\n",
       "    <tr>\n",
       "      <th>1</th>\n",
       "      <td>800</td>\n",
       "      <td>1175</td>\n",
       "    </tr>\n",
       "    <tr>\n",
       "      <th>2</th>\n",
       "      <td>850</td>\n",
       "      <td>1200</td>\n",
       "    </tr>\n",
       "    <tr>\n",
       "      <th>3</th>\n",
       "      <td>900</td>\n",
       "      <td>1250</td>\n",
       "    </tr>\n",
       "    <tr>\n",
       "      <th>4</th>\n",
       "      <td>950</td>\n",
       "      <td>2000</td>\n",
       "    </tr>\n",
       "  </tbody>\n",
       "</table>\n",
       "</div>"
      ],
      "text/plain": [
       "   sqfeet  rent\n",
       "0     750  1160\n",
       "1     800  1175\n",
       "2     850  1200\n",
       "3     900  1250\n",
       "4     950  2000"
      ]
     },
     "execution_count": 2,
     "metadata": {},
     "output_type": "execute_result"
    }
   ],
   "source": [
    "df = data()\n",
    "df"
   ]
  },
  {
   "cell_type": "code",
   "execution_count": 3,
   "metadata": {},
   "outputs": [
    {
     "name": "stdout",
     "output_type": "stream",
     "text": [
      "[925.0, 825.0, 925.0]\n"
     ]
    },
    {
     "data": {
      "text/html": [
       "<div>\n",
       "<style scoped>\n",
       "    .dataframe tbody tr th:only-of-type {\n",
       "        vertical-align: middle;\n",
       "    }\n",
       "\n",
       "    .dataframe tbody tr th {\n",
       "        vertical-align: top;\n",
       "    }\n",
       "\n",
       "    .dataframe thead th {\n",
       "        text-align: right;\n",
       "    }\n",
       "</style>\n",
       "<table border=\"1\" class=\"dataframe\">\n",
       "  <thead>\n",
       "    <tr style=\"text-align: right;\">\n",
       "      <th></th>\n",
       "      <th>sqfeet</th>\n",
       "      <th>rent</th>\n",
       "      <th>F0</th>\n",
       "      <th>res1</th>\n",
       "      <th>delta1</th>\n",
       "      <th>F1</th>\n",
       "      <th>res2</th>\n",
       "      <th>delta2</th>\n",
       "      <th>F2</th>\n",
       "      <th>res3</th>\n",
       "      <th>delta3</th>\n",
       "      <th>F3</th>\n",
       "      <th>deltas</th>\n",
       "    </tr>\n",
       "  </thead>\n",
       "  <tbody>\n",
       "    <tr>\n",
       "      <th>0</th>\n",
       "      <td>750</td>\n",
       "      <td>1160</td>\n",
       "      <td>1357.0</td>\n",
       "      <td>-197.0</td>\n",
       "      <td>-160.75</td>\n",
       "      <td>1196.25</td>\n",
       "      <td>-36.25</td>\n",
       "      <td>-28.750000</td>\n",
       "      <td>1167.500000</td>\n",
       "      <td>-7.500000</td>\n",
       "      <td>4.791667</td>\n",
       "      <td>1172.291667</td>\n",
       "      <td>-184.708333</td>\n",
       "    </tr>\n",
       "    <tr>\n",
       "      <th>1</th>\n",
       "      <td>800</td>\n",
       "      <td>1175</td>\n",
       "      <td>1357.0</td>\n",
       "      <td>-182.0</td>\n",
       "      <td>-160.75</td>\n",
       "      <td>1196.25</td>\n",
       "      <td>-21.25</td>\n",
       "      <td>-28.750000</td>\n",
       "      <td>1167.500000</td>\n",
       "      <td>7.500000</td>\n",
       "      <td>4.791667</td>\n",
       "      <td>1172.291667</td>\n",
       "      <td>-184.708333</td>\n",
       "    </tr>\n",
       "    <tr>\n",
       "      <th>2</th>\n",
       "      <td>850</td>\n",
       "      <td>1200</td>\n",
       "      <td>1357.0</td>\n",
       "      <td>-157.0</td>\n",
       "      <td>-160.75</td>\n",
       "      <td>1196.25</td>\n",
       "      <td>3.75</td>\n",
       "      <td>19.166667</td>\n",
       "      <td>1215.416667</td>\n",
       "      <td>-15.416667</td>\n",
       "      <td>4.791667</td>\n",
       "      <td>1220.208333</td>\n",
       "      <td>-136.791667</td>\n",
       "    </tr>\n",
       "    <tr>\n",
       "      <th>3</th>\n",
       "      <td>900</td>\n",
       "      <td>1250</td>\n",
       "      <td>1357.0</td>\n",
       "      <td>-107.0</td>\n",
       "      <td>-160.75</td>\n",
       "      <td>1196.25</td>\n",
       "      <td>53.75</td>\n",
       "      <td>19.166667</td>\n",
       "      <td>1215.416667</td>\n",
       "      <td>34.583333</td>\n",
       "      <td>4.791667</td>\n",
       "      <td>1220.208333</td>\n",
       "      <td>-136.791667</td>\n",
       "    </tr>\n",
       "    <tr>\n",
       "      <th>4</th>\n",
       "      <td>950</td>\n",
       "      <td>2000</td>\n",
       "      <td>1357.0</td>\n",
       "      <td>643.0</td>\n",
       "      <td>643.00</td>\n",
       "      <td>2000.00</td>\n",
       "      <td>0.00</td>\n",
       "      <td>19.166667</td>\n",
       "      <td>2019.166667</td>\n",
       "      <td>-19.166667</td>\n",
       "      <td>-19.166667</td>\n",
       "      <td>2000.000000</td>\n",
       "      <td>643.000000</td>\n",
       "    </tr>\n",
       "  </tbody>\n",
       "</table>\n",
       "</div>"
      ],
      "text/plain": [
       "   sqfeet  rent      F0   res1  delta1       F1   res2     delta2  \\\n",
       "0     750  1160  1357.0 -197.0 -160.75  1196.25 -36.25 -28.750000   \n",
       "1     800  1175  1357.0 -182.0 -160.75  1196.25 -21.25 -28.750000   \n",
       "2     850  1200  1357.0 -157.0 -160.75  1196.25   3.75  19.166667   \n",
       "3     900  1250  1357.0 -107.0 -160.75  1196.25  53.75  19.166667   \n",
       "4     950  2000  1357.0  643.0  643.00  2000.00   0.00  19.166667   \n",
       "\n",
       "            F2       res3     delta3           F3      deltas  \n",
       "0  1167.500000  -7.500000   4.791667  1172.291667 -184.708333  \n",
       "1  1167.500000   7.500000   4.791667  1172.291667 -184.708333  \n",
       "2  1215.416667 -15.416667   4.791667  1220.208333 -136.791667  \n",
       "3  1215.416667  34.583333   4.791667  1220.208333 -136.791667  \n",
       "4  2019.166667 -19.166667 -19.166667  2000.000000  643.000000  "
      ]
     },
     "execution_count": 3,
     "metadata": {},
     "output_type": "execute_result"
    }
   ],
   "source": [
    "eta = 1.0\n",
    "M = 3\n",
    "gbm = l2boost(df, 'rent', eta, M)\n",
    "splits = gbm.splits()\n",
    "print(gbm.splits())\n",
    "\n",
    "df['deltas'] = df[['delta1','delta2','delta3']].sum(axis=1) # sum deltas\n",
    "\n",
    "df"
   ]
  },
  {
   "cell_type": "code",
   "execution_count": 4,
   "metadata": {},
   "outputs": [
    {
     "name": "stdout",
     "output_type": "stream",
     "text": [
      "[104296.       933.75     382.708    290.868]\n",
      "[322.949  30.557  19.563  17.055]\n",
      "[257.2    23.     16.833  13.   ]\n"
     ]
    }
   ],
   "source": [
    "def mse(df, M):\n",
    "    return np.array([mean_squared_error(df.rent, df['F'+str(s)]) for s in range(M+1)])\n",
    "\n",
    "def mae(df, M):\n",
    "    return np.array([mean_absolute_error(df.rent, df['F'+str(s)]) for s in range(M+1)])\n",
    "\n",
    "np.set_printoptions(precision=3)\n",
    "print(mse(df, M))\n",
    "print(np.sqrt(mse(df, M)))\n",
    "print(mae(df, M))"
   ]
  },
  {
   "cell_type": "code",
   "execution_count": 5,
   "metadata": {},
   "outputs": [
    {
     "name": "stdout",
     "output_type": "stream",
     "text": [
      "750 & 1160 & 1357 & 1196 & 1167 & 1172 \\\\\n",
      "800 & 1175 & 1357 & 1196 & 1167 & 1172 \\\\\n",
      "850 & 1200 & 1357 & 1196 & 1215 & 1220 \\\\\n",
      "900 & 1250 & 1357 & 1196 & 1215 & 1220 \\\\\n",
      "950 & 2000 & 1357 & 2000 & 2019 & 2000 \\\\\n"
     ]
    }
   ],
   "source": [
    "F = df[['sqfeet','rent','F0','F1','F2','F3']]\n",
    "for i in range(len(F)):\n",
    "    print( \" & \".join([f\"{int(v)}\" for v in F.iloc[i,0:6]]), r\"\\\\\")"
   ]
  },
  {
   "cell_type": "code",
   "execution_count": 6,
   "metadata": {},
   "outputs": [
    {
     "name": "stdout",
     "output_type": "stream",
     "text": [
      "750 & 1160 & 1357 & -197 \\\\\n",
      "800 & 1175 & 1357 & -182 \\\\\n",
      "850 & 1200 & 1357 & -157 \\\\\n",
      "900 & 1250 & 1357 & -107 \\\\\n",
      "950 & 2000 & 1357 & 643 \\\\\n",
      "-160 & 1196 & -36 & -28 & 1167 & -7 & 4 & 1172 & -184 \\\\\n",
      "-160 & 1196 & -21 & -28 & 1167 & 7 & 4 & 1172 & -184 \\\\\n",
      "-160 & 1196 & 3 & 19 & 1215 & -15 & 4 & 1220 & -136 \\\\\n",
      "-160 & 1196 & 53 & 19 & 1215 & 34 & 4 & 1220 & -136 \\\\\n",
      "643 & 2000 & 0 & 19 & 2019 & -19 & -19 & 2000 & 642 \\\\\n"
     ]
    }
   ],
   "source": [
    "# manually print table in python\n",
    "# for small phone, make 2 tables\n",
    "for i in range(len(df)):\n",
    "    print( \" & \".join([f\"{int(v)}\" for v in df.iloc[i,0:4]]), r\"\\\\\")\n",
    "\n",
    "print\n",
    "for i in range(len(df)):\n",
    "    print( \" & \".join([f\"{int(v)}\" for v in df.iloc[i,4:]]), r\"\\\\\")"
   ]
  },
  {
   "cell_type": "markdown",
   "metadata": {},
   "source": [
    "## Plot F0 vs rent"
   ]
  },
  {
   "cell_type": "code",
   "execution_count": 7,
   "metadata": {},
   "outputs": [
    {
     "data": {
      "image/png": "[encoded data removed]",
      "text/plain": [
       "<Figure size 288x180 with 1 Axes>"
      ]
     },
     "metadata": {},
     "output_type": "display_data"
    }
   ],
   "source": [
    "f0 = df.rent.mean()\n",
    "fig, ax = plt.subplots(nrows=1, ncols=1, figsize=(4, 2.5), sharex=True)\n",
    "plt.tight_layout()\n",
    "ax.plot(df.sqfeet,df.rent,'o', linewidth=.8, markersize=4)\n",
    "ax.plot([df.sqfeet.min()-10,df.sqfeet.max()+10], [f0,f0],\n",
    "         linewidth=.8, linestyle='--', c='k')\n",
    "ax.set_xlim(df.sqfeet.min()-10,df.sqfeet.max()+10)\n",
    "ax.text(815, f0+15, r\"$f_0({\\bf x})$\", fontsize=20)\n",
    "\n",
    "ax.set_ylabel(r\"Rent ($y$)\", fontsize=14)\n",
    "ax.set_xlabel(r\"SqFeet (${\\bf x}$)\", fontsize=14)\n",
    "\n",
    "# draw arrows\n",
    "for x,y,yhat in zip(df.sqfeet,df.rent,df.F0):\n",
    "    draw_vector(ax, x, yhat, 0, y-yhat, df.rent.max()-df.rent.min())\n",
    "\n",
    "plt.show()"
   ]
  },
  {
   "cell_type": "markdown",
   "metadata": {},
   "source": [
    "## Plot delta predictions versus residuals"
   ]
  },
  {
   "cell_type": "code",
   "execution_count": 8,
   "metadata": {},
   "outputs": [
    {
     "data": {
      "image/png": "[encoded data removed]",
      "text/plain": [
       "<Figure size 720x252 with 3 Axes>"
      ]
     },
     "metadata": {},
     "output_type": "display_data"
    }
   ],
   "source": [
    "def draw_stump(ax, x_train, y_train, y_pred, split, stage):\n",
    "    line1, = ax.plot(x_train, y_train, 'o',\n",
    "                     markersize=4,\n",
    "                     label=\"$y-F_\"+str(stage-1)+\"({\\\\bf x})$\")\n",
    "    label = r\"$\\Delta_\"+str(stage)+r\"({\\bf x})$\"\n",
    "    left = y_pred[x_train<split]\n",
    "    right = y_pred[x_train>split]\n",
    "    lmean = np.mean(left)\n",
    "    rmean = np.mean(right)\n",
    "    line2, = ax.plot([x_train.min()-10,split], [lmean,lmean],\n",
    "             linewidth=.8, linestyle='--', c='k', label=label)\n",
    "    ax.plot([split,x_train.max()+10], [rmean,rmean],\n",
    "             linewidth=.8, linestyle='--', c='k')\n",
    "    ax.plot([split,split], [lmean,rmean],\n",
    "             linewidth=.8, linestyle='--', c='k')\n",
    "    ax.plot([x_train.min()-10,x_train.max()+10], [0,0],\n",
    "             linewidth=.8, linestyle=':', c='k')\n",
    "    ax.legend(handles=[line1,line2], fontsize=16,\n",
    "              loc='upper left', \n",
    "              labelspacing=.1,\n",
    "              handletextpad=.2,\n",
    "              handlelength=.7,\n",
    "              frameon=True)\n",
    "\n",
    "def draw_residual(ax, x_train, y_train, y_hat):\n",
    "    for x,y,yhat in zip(x_train, y_train, y_hat):\n",
    "        draw_vector(ax, x, yhat, 0, y-yhat, df.rent.max()-df.rent.min())\n",
    "\n",
    "fig, axes = plt.subplots(nrows=1, ncols=3, figsize=(10, 3.5), sharey=True)\n",
    "\n",
    "axes[0].set_ylabel(r\"$y-\\hat y$\", fontsize=20)\n",
    "for a in range(3):\n",
    "    axes[a].set_xlabel(r\"SqFeet\", fontsize=14)\n",
    "    axes[a].set_xlim(df.sqfeet.min()-10,df.sqfeet.max()+10)\n",
    "\n",
    "draw_stump(axes[0], df.sqfeet, df.res1, df.delta1, splits[0], stage=1)\n",
    "\n",
    "draw_stump(axes[1], df.sqfeet, df.res2, df.delta2, splits[1], stage=2)\n",
    "\n",
    "draw_stump(axes[2], df.sqfeet, df.res3, df.delta3, splits[2], stage=3)\n",
    "\n",
    "plt.tight_layout()\n",
    "        \n",
    "plt.savefig('/tmp/t.svg')\n",
    "plt.show()"
   ]
  },
  {
   "cell_type": "code",
   "execution_count": 9,
   "metadata": {},
   "outputs": [
    {
     "data": {
      "text/html": [
       "<div>\n",
       "<style scoped>\n",
       "    .dataframe tbody tr th:only-of-type {\n",
       "        vertical-align: middle;\n",
       "    }\n",
       "\n",
       "    .dataframe tbody tr th {\n",
       "        vertical-align: top;\n",
       "    }\n",
       "\n",
       "    .dataframe thead th {\n",
       "        text-align: right;\n",
       "    }\n",
       "</style>\n",
       "<table border=\"1\" class=\"dataframe\">\n",
       "  <thead>\n",
       "    <tr style=\"text-align: right;\">\n",
       "      <th></th>\n",
       "      <th>delta1</th>\n",
       "      <th>delta2</th>\n",
       "      <th>delta3</th>\n",
       "    </tr>\n",
       "  </thead>\n",
       "  <tbody>\n",
       "    <tr>\n",
       "      <th>0</th>\n",
       "      <td>-160.75</td>\n",
       "      <td>-28.750000</td>\n",
       "      <td>4.791667</td>\n",
       "    </tr>\n",
       "    <tr>\n",
       "      <th>1</th>\n",
       "      <td>-160.75</td>\n",
       "      <td>-28.750000</td>\n",
       "      <td>4.791667</td>\n",
       "    </tr>\n",
       "    <tr>\n",
       "      <th>2</th>\n",
       "      <td>-160.75</td>\n",
       "      <td>19.166667</td>\n",
       "      <td>4.791667</td>\n",
       "    </tr>\n",
       "    <tr>\n",
       "      <th>3</th>\n",
       "      <td>-160.75</td>\n",
       "      <td>19.166667</td>\n",
       "      <td>4.791667</td>\n",
       "    </tr>\n",
       "    <tr>\n",
       "      <th>4</th>\n",
       "      <td>643.00</td>\n",
       "      <td>19.166667</td>\n",
       "      <td>-19.166667</td>\n",
       "    </tr>\n",
       "  </tbody>\n",
       "</table>\n",
       "</div>"
      ],
      "text/plain": [
       "   delta1     delta2     delta3\n",
       "0 -160.75 -28.750000   4.791667\n",
       "1 -160.75 -28.750000   4.791667\n",
       "2 -160.75  19.166667   4.791667\n",
       "3 -160.75  19.166667   4.791667\n",
       "4  643.00  19.166667 -19.166667"
      ]
     },
     "execution_count": 9,
     "metadata": {},
     "output_type": "execute_result"
    }
   ],
   "source": [
    "df[['delta1','delta2','delta3']]"
   ]
  },
  {
   "cell_type": "markdown",
   "metadata": {},
   "source": [
    "## Show MSE for various learning rates"
   ]
  },
  {
   "cell_type": "code",
   "execution_count": 10,
   "metadata": {},
   "outputs": [
    {
     "data": {
      "text/html": [
       "<div>\n",
       "<style scoped>\n",
       "    .dataframe tbody tr th:only-of-type {\n",
       "        vertical-align: middle;\n",
       "    }\n",
       "\n",
       "    .dataframe tbody tr th {\n",
       "        vertical-align: top;\n",
       "    }\n",
       "\n",
       "    .dataframe thead th {\n",
       "        text-align: right;\n",
       "    }\n",
       "</style>\n",
       "<table border=\"1\" class=\"dataframe\">\n",
       "  <thead>\n",
       "    <tr style=\"text-align: right;\">\n",
       "      <th></th>\n",
       "      <th>stage</th>\n",
       "      <th>mse_0.50</th>\n",
       "      <th>mse_0.60</th>\n",
       "      <th>mse_0.70</th>\n",
       "      <th>mse_0.80</th>\n",
       "      <th>mse_0.90</th>\n",
       "    </tr>\n",
       "  </thead>\n",
       "  <tbody>\n",
       "    <tr>\n",
       "      <th>0</th>\n",
       "      <td>0</td>\n",
       "      <td>104296.000000</td>\n",
       "      <td>104296.000000</td>\n",
       "      <td>104296.000000</td>\n",
       "      <td>104296.000000</td>\n",
       "      <td>104296.000000</td>\n",
       "    </tr>\n",
       "    <tr>\n",
       "      <th>1</th>\n",
       "      <td>1</td>\n",
       "      <td>26774.312500</td>\n",
       "      <td>17471.710000</td>\n",
       "      <td>10236.352500</td>\n",
       "      <td>5068.240000</td>\n",
       "      <td>1967.372500</td>\n",
       "    </tr>\n",
       "    <tr>\n",
       "      <th>2</th>\n",
       "      <td>2</td>\n",
       "      <td>7393.890625</td>\n",
       "      <td>3579.823600</td>\n",
       "      <td>1770.984225</td>\n",
       "      <td>1099.129600</td>\n",
       "      <td>251.553897</td>\n",
       "    </tr>\n",
       "    <tr>\n",
       "      <th>3</th>\n",
       "      <td>3</td>\n",
       "      <td>2548.785156</td>\n",
       "      <td>1180.583666</td>\n",
       "      <td>339.461973</td>\n",
       "      <td>245.554944</td>\n",
       "      <td>117.861620</td>\n",
       "    </tr>\n",
       "    <tr>\n",
       "      <th>4</th>\n",
       "      <td>4</td>\n",
       "      <td>923.394409</td>\n",
       "      <td>330.955072</td>\n",
       "      <td>83.300445</td>\n",
       "      <td>87.747750</td>\n",
       "      <td>93.742386</td>\n",
       "    </tr>\n",
       "  </tbody>\n",
       "</table>\n",
       "</div>"
      ],
      "text/plain": [
       "   stage       mse_0.50       mse_0.60       mse_0.70       mse_0.80  \\\n",
       "0      0  104296.000000  104296.000000  104296.000000  104296.000000   \n",
       "1      1   26774.312500   17471.710000   10236.352500    5068.240000   \n",
       "2      2    7393.890625    3579.823600    1770.984225    1099.129600   \n",
       "3      3    2548.785156    1180.583666     339.461973     245.554944   \n",
       "4      4     923.394409     330.955072      83.300445      87.747750   \n",
       "\n",
       "        mse_0.90  \n",
       "0  104296.000000  \n",
       "1    1967.372500  \n",
       "2     251.553897  \n",
       "3     117.861620  \n",
       "4      93.742386  "
      ]
     },
     "execution_count": 10,
     "metadata": {},
     "output_type": "execute_result"
    }
   ],
   "source": [
    "M = 4\n",
    "\n",
    "df_mse = pd.DataFrame(data={\"stage\":range(M+1)})\n",
    "\n",
    "for eta in np.arange(.5, 1, .1):\n",
    "    df = data() # fresh data\n",
    "    gbm = l2boost(df, 'rent', eta, M)\n",
    "    \n",
    "    df_mse[f'mse_{eta:.2f}'] = mse(df, M)\n",
    "\n",
    "df_mse"
   ]
  },
  {
   "cell_type": "code",
   "execution_count": 11,
   "metadata": {},
   "outputs": [
    {
     "name": "stdout",
     "output_type": "stream",
     "text": [
      "[923.3944091796893, 330.95507170999997, 83.30044475120413, 87.74775011555509, 93.74238635453273]\n",
      "Best index is  2 0.7\n"
     ]
    },
    {
     "data": {
      "image/png": "[encoded data removed]",
      "text/plain": [
       "<Figure size 432x288 with 1 Axes>"
      ]
     },
     "metadata": {},
     "output_type": "display_data"
    }
   ],
   "source": [
    "fig, ax = plt.subplots(nrows=1, ncols=1, figsize=(6, 4), sharex=True)\n",
    "\n",
    "maxy = 1500\n",
    "\n",
    "max_eta = 1\n",
    "min_eta = .5\n",
    "mins = []\n",
    "for eta in np.arange(min_eta, max_eta, .1):\n",
    "    mins.append( np.min(df_mse[f'mse_{eta:.2f}']) )\n",
    "\n",
    "print (mins)\n",
    "min_eta_index = np.argmin(mins)\n",
    "print(\"Best index is \", min_eta_index, list(np.arange(min_eta, max_eta, .1))[min_eta_index])\n",
    "\n",
    "i = 0\n",
    "for eta in np.arange(min_eta, max_eta, .1):\n",
    "    color = 'grey'\n",
    "    lw = .8\n",
    "    ls = ':'\n",
    "    if i==min_eta_index:\n",
    "        color = bookcolors['blue']\n",
    "        lw = 1.7\n",
    "        ls = '-'\n",
    "    ax.plot(df_mse.stage,df_mse[f'mse_{eta:.2f}'],\n",
    "            linewidth=lw,\n",
    "            linestyle=ls,\n",
    "            c=color)\n",
    "    xloc = 1.2\n",
    "    yloc = (df_mse[f'mse_{eta:.2f}'].values[1] + df_mse[f'mse_{eta:.2f}'].values[2])/2\n",
    "    if yloc>maxy:\n",
    "        yloc = maxy-100\n",
    "        xloc +=  .5\n",
    "    ax.text(xloc, yloc, f\"$\\\\eta={eta:.1f}$\",\n",
    "            fontsize=16)\n",
    "    i += 1\n",
    "\n",
    "plt.axis([0,M,0,maxy])\n",
    "\n",
    "ax.set_ylabel(r\"Mean Squared Error\", fontsize=16)\n",
    "ax.set_xlabel(r\"Number of stages $M$\", fontsize=16)\n",
    "ax.set_title(r'Effect of learning rate $\\eta$ on MSE of $F_M({\\bf x})$', fontsize=16)\n",
    "ax.set_xticks(range(0,M+1))\n",
    "\n",
    "plt.tight_layout()\n",
    "plt.show()"
   ]
  },
  {
   "cell_type": "markdown",
   "metadata": {},
   "source": [
    "## Show composite model"
   ]
  },
  {
   "cell_type": "code",
   "execution_count": 12,
   "metadata": {},
   "outputs": [
    {
     "data": {
      "text/html": [
       "<div>\n",
       "<style scoped>\n",
       "    .dataframe tbody tr th:only-of-type {\n",
       "        vertical-align: middle;\n",
       "    }\n",
       "\n",
       "    .dataframe tbody tr th {\n",
       "        vertical-align: top;\n",
       "    }\n",
       "\n",
       "    .dataframe thead th {\n",
       "        text-align: right;\n",
       "    }\n",
       "</style>\n",
       "<table border=\"1\" class=\"dataframe\">\n",
       "  <thead>\n",
       "    <tr style=\"text-align: right;\">\n",
       "      <th></th>\n",
       "      <th>sqfeet</th>\n",
       "      <th>rent</th>\n",
       "      <th>F0</th>\n",
       "      <th>delta1</th>\n",
       "      <th>delta2</th>\n",
       "      <th>delta3</th>\n",
       "      <th>deltas</th>\n",
       "      <th>deltas12</th>\n",
       "      <th>deltas123</th>\n",
       "    </tr>\n",
       "  </thead>\n",
       "  <tbody>\n",
       "    <tr>\n",
       "      <th>0</th>\n",
       "      <td>750</td>\n",
       "      <td>1160</td>\n",
       "      <td>1357.0</td>\n",
       "      <td>-160.75</td>\n",
       "      <td>-28.750000</td>\n",
       "      <td>4.791667</td>\n",
       "      <td>-129.295833</td>\n",
       "      <td>-132.650000</td>\n",
       "      <td>-129.295833</td>\n",
       "    </tr>\n",
       "    <tr>\n",
       "      <th>1</th>\n",
       "      <td>800</td>\n",
       "      <td>1175</td>\n",
       "      <td>1357.0</td>\n",
       "      <td>-160.75</td>\n",
       "      <td>-28.750000</td>\n",
       "      <td>4.791667</td>\n",
       "      <td>-129.295833</td>\n",
       "      <td>-132.650000</td>\n",
       "      <td>-129.295833</td>\n",
       "    </tr>\n",
       "    <tr>\n",
       "      <th>2</th>\n",
       "      <td>850</td>\n",
       "      <td>1200</td>\n",
       "      <td>1357.0</td>\n",
       "      <td>-160.75</td>\n",
       "      <td>19.166667</td>\n",
       "      <td>4.791667</td>\n",
       "      <td>-95.754167</td>\n",
       "      <td>-99.108333</td>\n",
       "      <td>-95.754167</td>\n",
       "    </tr>\n",
       "    <tr>\n",
       "      <th>3</th>\n",
       "      <td>900</td>\n",
       "      <td>1250</td>\n",
       "      <td>1357.0</td>\n",
       "      <td>-160.75</td>\n",
       "      <td>19.166667</td>\n",
       "      <td>4.791667</td>\n",
       "      <td>-95.754167</td>\n",
       "      <td>-99.108333</td>\n",
       "      <td>-95.754167</td>\n",
       "    </tr>\n",
       "    <tr>\n",
       "      <th>4</th>\n",
       "      <td>950</td>\n",
       "      <td>2000</td>\n",
       "      <td>1357.0</td>\n",
       "      <td>643.00</td>\n",
       "      <td>19.166667</td>\n",
       "      <td>-19.166667</td>\n",
       "      <td>450.100000</td>\n",
       "      <td>463.516667</td>\n",
       "      <td>450.100000</td>\n",
       "    </tr>\n",
       "  </tbody>\n",
       "</table>\n",
       "</div>"
      ],
      "text/plain": [
       "   sqfeet  rent      F0  delta1     delta2     delta3      deltas    deltas12  \\\n",
       "0     750  1160  1357.0 -160.75 -28.750000   4.791667 -129.295833 -132.650000   \n",
       "1     800  1175  1357.0 -160.75 -28.750000   4.791667 -129.295833 -132.650000   \n",
       "2     850  1200  1357.0 -160.75  19.166667   4.791667  -95.754167  -99.108333   \n",
       "3     900  1250  1357.0 -160.75  19.166667   4.791667  -95.754167  -99.108333   \n",
       "4     950  2000  1357.0  643.00  19.166667 -19.166667  450.100000  463.516667   \n",
       "\n",
       "    deltas123  \n",
       "0 -129.295833  \n",
       "1 -129.295833  \n",
       "2  -95.754167  \n",
       "3  -95.754167  \n",
       "4  450.100000  "
      ]
     },
     "execution_count": 12,
     "metadata": {},
     "output_type": "execute_result"
    }
   ],
   "source": [
    "# Hideous manual computation of composite graph but...\n",
    "\n",
    "M = 3\n",
    "eta = 1.0\n",
    "df = data()\n",
    "gbm = l2boost(df, 'rent', eta, M)\n",
    "df['deltas12'] = 0.7 * df[['delta1','delta2']].sum(axis=1)\n",
    "df['deltas123'] = 0.7 * df[['delta1','delta2','delta3']].sum(axis=1)\n",
    "df['deltas'] = 0.7 * df[['delta1','delta2','delta3']].sum(axis=1) # sum deltas\n",
    "\n",
    "df[['sqfeet','rent','F0','delta1','delta2','delta3','deltas','deltas12','deltas123']]"
   ]
  },
  {
   "cell_type": "code",
   "execution_count": 13,
   "metadata": {},
   "outputs": [
    {
     "data": {
      "image/png": "[encoded data removed]",
      "text/plain": [
       "<Figure size 288x216 with 1 Axes>"
      ]
     },
     "metadata": {},
     "output_type": "display_data"
    }
   ],
   "source": [
    "fig, ax = plt.subplots(nrows=1, ncols=1, figsize=(4, 3))\n",
    "\n",
    "plot_deltas(ax, df, gbm, 1)\n",
    "\n",
    "plt.tight_layout()\n",
    "plt.show()"
   ]
  },
  {
   "cell_type": "code",
   "execution_count": 14,
   "metadata": {},
   "outputs": [
    {
     "data": {
      "image/png": "[encoded data removed]",
      "text/plain": [
       "<Figure size 799.2x252 with 3 Axes>"
      ]
     },
     "metadata": {},
     "output_type": "display_data"
    }
   ],
   "source": [
    "fig, axes = plt.subplots(nrows=1, ncols=3, figsize=(11.1, 3.5))\n",
    "\n",
    "plot_composite(axes[0], df, gbm, 1)\n",
    "plot_composite(axes[1], df, gbm, 2)\n",
    "plot_composite(axes[2], df, gbm, 3)\n",
    "\n",
    "plt.tight_layout()\n",
    "plt.savefig('/tmp/u.svg')\n",
    "plt.show()"
   ]
  }
 ],
 "metadata": {
  "kernelspec": {
   "display_name": "Python 3",
   "language": "python",
   "name": "python3"
  },
  "language_info": {
   "codemirror_mode": {
    "name": "ipython",
    "version": 3
   },
   "file_extension": ".py",
   "mimetype": "text/x-python",
   "name": "python",
   "nbconvert_exporter": "python",
   "pygments_lexer": "ipython3",
   "version": "3.6.4"
  }
 },
 "nbformat": 4,
 "nbformat_minor": 2
}
