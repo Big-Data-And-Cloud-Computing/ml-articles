{
 "cells": [
  {
   "cell_type": "code",
   "execution_count": 8,
   "metadata": {},
   "outputs": [],
   "source": [
    "from support import *"
   ]
  },
  {
   "cell_type": "code",
   "execution_count": 15,
   "metadata": {},
   "outputs": [
    {
     "data": {
      "image/png": "[encoded data removed]",
      "text/plain": [
       "<Figure size 432x288 with 1 Axes>"
      ]
     },
     "metadata": {},
     "output_type": "display_data"
    }
   ],
   "source": [
    "def data():\n",
    "#     df = pd.DataFrame(data={\"sqfeet\":[700, 750, 800, 850, 900,950,1000]})\n",
    "#     df[\"rent\"] = pd.Series([1160, 1160, 1175, 1200, 1280,1310,2000])\n",
    "    df = pd.DataFrame(data={\"sqfeet\":[750, 800, 850, 900,950]})\n",
    "    df[\"rent\"] = pd.Series([1160, 1200, 1280, 1450,2000])\n",
    "    df = df.sort_values('sqfeet')\n",
    "    return df\n",
    "\n",
    "df = data()\n",
    "df_l2 = df.copy()\n",
    "df_l1 = df.copy()\n",
    "plt.plot(df.sqfeet,df.rent,'o')\n",
    "\n",
    "m = df.rent.mean()\n",
    "mm = np.empty(len(df))\n",
    "mm.fill(m)\n",
    "plt.plot(df.sqfeet,mm)\n",
    "\n",
    "md = df.rent.median()\n",
    "md2 = np.empty(len(df))\n",
    "md2.fill(md)\n",
    "plt.plot(df.sqfeet,md2, linestyle=':')\n",
    "plt.show()"
   ]
  },
  {
   "cell_type": "raw",
   "metadata": {},
   "source": [
    "M = 1\n",
    "f0 = df_l2.rent.median()\n",
    "df['F0'] = f0\n",
    "\n",
    "for s in range(1,M+1):\n",
    "    df_l2[f'res{s}'] = df_l2.rent - df[f'F{s-1}']\n",
    "    df[f'sign{s}'] = np.sign(df[f'res{s}'])\n",
    "\n",
    "df"
   ]
  },
  {
   "cell_type": "markdown",
   "metadata": {},
   "source": [
    "## Show decision tree for L2 residual"
   ]
  },
  {
   "cell_type": "code",
   "execution_count": 10,
   "metadata": {},
   "outputs": [
    {
     "name": "stdout",
     "output_type": "stream",
     "text": [
      "[925.0, 825.0, 925.0]\n",
      "[94384.     6175.     2170.833  1503.472]\n",
      "[307.22   78.581  46.592  38.775]\n",
      "[237.6    62.     40.333  30.   ]\n"
     ]
    },
    {
     "data": {
      "text/html": [
       "<div>\n",
       "<style scoped>\n",
       "    .dataframe tbody tr th:only-of-type {\n",
       "        vertical-align: middle;\n",
       "    }\n",
       "\n",
       "    .dataframe tbody tr th {\n",
       "        vertical-align: top;\n",
       "    }\n",
       "\n",
       "    .dataframe thead th {\n",
       "        text-align: right;\n",
       "    }\n",
       "</style>\n",
       "<table border=\"1\" class=\"dataframe\">\n",
       "  <thead>\n",
       "    <tr style=\"text-align: right;\">\n",
       "      <th></th>\n",
       "      <th>sqfeet</th>\n",
       "      <th>rent</th>\n",
       "      <th>F0</th>\n",
       "      <th>res1</th>\n",
       "      <th>delta1</th>\n",
       "      <th>F1</th>\n",
       "      <th>res2</th>\n",
       "      <th>delta2</th>\n",
       "      <th>F2</th>\n",
       "      <th>res3</th>\n",
       "      <th>delta3</th>\n",
       "      <th>F3</th>\n",
       "    </tr>\n",
       "  </thead>\n",
       "  <tbody>\n",
       "    <tr>\n",
       "      <th>0</th>\n",
       "      <td>750</td>\n",
       "      <td>1160</td>\n",
       "      <td>1406.0</td>\n",
       "      <td>-246.0</td>\n",
       "      <td>-148.5</td>\n",
       "      <td>1257.5</td>\n",
       "      <td>-97.5</td>\n",
       "      <td>-77.500000</td>\n",
       "      <td>1180.000000</td>\n",
       "      <td>-20.000000</td>\n",
       "      <td>12.916667</td>\n",
       "      <td>1192.916667</td>\n",
       "    </tr>\n",
       "    <tr>\n",
       "      <th>1</th>\n",
       "      <td>800</td>\n",
       "      <td>1200</td>\n",
       "      <td>1406.0</td>\n",
       "      <td>-206.0</td>\n",
       "      <td>-148.5</td>\n",
       "      <td>1257.5</td>\n",
       "      <td>-57.5</td>\n",
       "      <td>-77.500000</td>\n",
       "      <td>1180.000000</td>\n",
       "      <td>20.000000</td>\n",
       "      <td>12.916667</td>\n",
       "      <td>1192.916667</td>\n",
       "    </tr>\n",
       "    <tr>\n",
       "      <th>2</th>\n",
       "      <td>850</td>\n",
       "      <td>1280</td>\n",
       "      <td>1406.0</td>\n",
       "      <td>-126.0</td>\n",
       "      <td>-148.5</td>\n",
       "      <td>1257.5</td>\n",
       "      <td>22.5</td>\n",
       "      <td>51.666667</td>\n",
       "      <td>1309.166667</td>\n",
       "      <td>-29.166667</td>\n",
       "      <td>12.916667</td>\n",
       "      <td>1322.083333</td>\n",
       "    </tr>\n",
       "    <tr>\n",
       "      <th>3</th>\n",
       "      <td>900</td>\n",
       "      <td>1390</td>\n",
       "      <td>1406.0</td>\n",
       "      <td>-16.0</td>\n",
       "      <td>-148.5</td>\n",
       "      <td>1257.5</td>\n",
       "      <td>132.5</td>\n",
       "      <td>51.666667</td>\n",
       "      <td>1309.166667</td>\n",
       "      <td>80.833333</td>\n",
       "      <td>12.916667</td>\n",
       "      <td>1322.083333</td>\n",
       "    </tr>\n",
       "    <tr>\n",
       "      <th>4</th>\n",
       "      <td>950</td>\n",
       "      <td>2000</td>\n",
       "      <td>1406.0</td>\n",
       "      <td>594.0</td>\n",
       "      <td>594.0</td>\n",
       "      <td>2000.0</td>\n",
       "      <td>0.0</td>\n",
       "      <td>51.666667</td>\n",
       "      <td>2051.666667</td>\n",
       "      <td>-51.666667</td>\n",
       "      <td>-51.666667</td>\n",
       "      <td>2000.000000</td>\n",
       "    </tr>\n",
       "  </tbody>\n",
       "</table>\n",
       "</div>"
      ],
      "text/plain": [
       "   sqfeet  rent      F0   res1  delta1      F1   res2     delta2           F2  \\\n",
       "0     750  1160  1406.0 -246.0  -148.5  1257.5  -97.5 -77.500000  1180.000000   \n",
       "1     800  1200  1406.0 -206.0  -148.5  1257.5  -57.5 -77.500000  1180.000000   \n",
       "2     850  1280  1406.0 -126.0  -148.5  1257.5   22.5  51.666667  1309.166667   \n",
       "3     900  1390  1406.0  -16.0  -148.5  1257.5  132.5  51.666667  1309.166667   \n",
       "4     950  2000  1406.0  594.0   594.0  2000.0    0.0  51.666667  2051.666667   \n",
       "\n",
       "        res3     delta3           F3  \n",
       "0 -20.000000  12.916667  1192.916667  \n",
       "1  20.000000  12.916667  1192.916667  \n",
       "2 -29.166667  12.916667  1322.083333  \n",
       "3  80.833333  12.916667  1322.083333  \n",
       "4 -51.666667 -51.666667  2000.000000  "
      ]
     },
     "execution_count": 10,
     "metadata": {},
     "output_type": "execute_result"
    }
   ],
   "source": [
    "eta = 1.0\n",
    "M = 3\n",
    "gbm_l2 = l2boost(df_l2, 'rent', eta, M)\n",
    "print(gbm_l2.splits())\n",
    "mse = np.array([mean_squared_error(df_l2.rent, df_l2['F'+str(s)]) for s in range(M+1)])\n",
    "mse_sqrt = np.array(np.sqrt([mean_squared_error(df_l2.rent, df_l2['F'+str(s)]) for s in range(M+1)]))\n",
    "mae = np.array([mean_absolute_error(df_l2.rent, df_l2['F'+str(s)]) for s in range(M+1)])\n",
    "np.set_printoptions(precision=3)\n",
    "print(mse)\n",
    "print(mse_sqrt)\n",
    "print(mae)\n",
    "\n",
    "df_l2"
   ]
  },
  {
   "cell_type": "code",
   "execution_count": 11,
   "metadata": {},
   "outputs": [
    {
     "name": "stdout",
     "output_type": "stream",
     "text": [
      "[825.0, 775.0, 925.0]\n",
      "[110260.  77000.  74920.   2700.]\n",
      "[332.054 277.489 273.715  51.962]\n",
      "[206. 152. 148.  28.]\n"
     ]
    },
    {
     "data": {
      "text/html": [
       "<div>\n",
       "<style scoped>\n",
       "    .dataframe tbody tr th:only-of-type {\n",
       "        vertical-align: middle;\n",
       "    }\n",
       "\n",
       "    .dataframe tbody tr th {\n",
       "        vertical-align: top;\n",
       "    }\n",
       "\n",
       "    .dataframe thead th {\n",
       "        text-align: right;\n",
       "    }\n",
       "</style>\n",
       "<table border=\"1\" class=\"dataframe\">\n",
       "  <thead>\n",
       "    <tr style=\"text-align: right;\">\n",
       "      <th></th>\n",
       "      <th>sqfeet</th>\n",
       "      <th>rent</th>\n",
       "      <th>F0</th>\n",
       "      <th>res1</th>\n",
       "      <th>sign1</th>\n",
       "      <th>delta1</th>\n",
       "      <th>F1</th>\n",
       "      <th>res2</th>\n",
       "      <th>sign2</th>\n",
       "      <th>delta2</th>\n",
       "      <th>F2</th>\n",
       "      <th>res3</th>\n",
       "      <th>sign3</th>\n",
       "      <th>delta3</th>\n",
       "      <th>F3</th>\n",
       "    </tr>\n",
       "  </thead>\n",
       "  <tbody>\n",
       "    <tr>\n",
       "      <th>0</th>\n",
       "      <td>750</td>\n",
       "      <td>1160</td>\n",
       "      <td>1280.0</td>\n",
       "      <td>-120.0</td>\n",
       "      <td>-1.0</td>\n",
       "      <td>-100.0</td>\n",
       "      <td>1180.0</td>\n",
       "      <td>-20.0</td>\n",
       "      <td>-1.0</td>\n",
       "      <td>-20.0</td>\n",
       "      <td>1160.0</td>\n",
       "      <td>0.0</td>\n",
       "      <td>0.0</td>\n",
       "      <td>-5.0</td>\n",
       "      <td>1155.0</td>\n",
       "    </tr>\n",
       "    <tr>\n",
       "      <th>1</th>\n",
       "      <td>800</td>\n",
       "      <td>1200</td>\n",
       "      <td>1280.0</td>\n",
       "      <td>-80.0</td>\n",
       "      <td>-1.0</td>\n",
       "      <td>-100.0</td>\n",
       "      <td>1180.0</td>\n",
       "      <td>20.0</td>\n",
       "      <td>1.0</td>\n",
       "      <td>10.0</td>\n",
       "      <td>1190.0</td>\n",
       "      <td>10.0</td>\n",
       "      <td>1.0</td>\n",
       "      <td>-5.0</td>\n",
       "      <td>1185.0</td>\n",
       "    </tr>\n",
       "    <tr>\n",
       "      <th>2</th>\n",
       "      <td>850</td>\n",
       "      <td>1280</td>\n",
       "      <td>1280.0</td>\n",
       "      <td>0.0</td>\n",
       "      <td>0.0</td>\n",
       "      <td>110.0</td>\n",
       "      <td>1390.0</td>\n",
       "      <td>-110.0</td>\n",
       "      <td>-1.0</td>\n",
       "      <td>10.0</td>\n",
       "      <td>1400.0</td>\n",
       "      <td>-120.0</td>\n",
       "      <td>-1.0</td>\n",
       "      <td>-5.0</td>\n",
       "      <td>1395.0</td>\n",
       "    </tr>\n",
       "    <tr>\n",
       "      <th>3</th>\n",
       "      <td>900</td>\n",
       "      <td>1390</td>\n",
       "      <td>1280.0</td>\n",
       "      <td>110.0</td>\n",
       "      <td>1.0</td>\n",
       "      <td>110.0</td>\n",
       "      <td>1390.0</td>\n",
       "      <td>0.0</td>\n",
       "      <td>0.0</td>\n",
       "      <td>10.0</td>\n",
       "      <td>1400.0</td>\n",
       "      <td>-10.0</td>\n",
       "      <td>-1.0</td>\n",
       "      <td>-5.0</td>\n",
       "      <td>1395.0</td>\n",
       "    </tr>\n",
       "    <tr>\n",
       "      <th>4</th>\n",
       "      <td>950</td>\n",
       "      <td>2000</td>\n",
       "      <td>1280.0</td>\n",
       "      <td>720.0</td>\n",
       "      <td>1.0</td>\n",
       "      <td>110.0</td>\n",
       "      <td>1390.0</td>\n",
       "      <td>610.0</td>\n",
       "      <td>1.0</td>\n",
       "      <td>10.0</td>\n",
       "      <td>1400.0</td>\n",
       "      <td>600.0</td>\n",
       "      <td>1.0</td>\n",
       "      <td>600.0</td>\n",
       "      <td>2000.0</td>\n",
       "    </tr>\n",
       "  </tbody>\n",
       "</table>\n",
       "</div>"
      ],
      "text/plain": [
       "   sqfeet  rent      F0   res1  sign1  delta1      F1   res2  sign2  delta2  \\\n",
       "0     750  1160  1280.0 -120.0   -1.0  -100.0  1180.0  -20.0   -1.0   -20.0   \n",
       "1     800  1200  1280.0  -80.0   -1.0  -100.0  1180.0   20.0    1.0    10.0   \n",
       "2     850  1280  1280.0    0.0    0.0   110.0  1390.0 -110.0   -1.0    10.0   \n",
       "3     900  1390  1280.0  110.0    1.0   110.0  1390.0    0.0    0.0    10.0   \n",
       "4     950  2000  1280.0  720.0    1.0   110.0  1390.0  610.0    1.0    10.0   \n",
       "\n",
       "       F2   res3  sign3  delta3      F3  \n",
       "0  1160.0    0.0    0.0    -5.0  1155.0  \n",
       "1  1190.0   10.0    1.0    -5.0  1185.0  \n",
       "2  1400.0 -120.0   -1.0    -5.0  1395.0  \n",
       "3  1400.0  -10.0   -1.0    -5.0  1395.0  \n",
       "4  1400.0  600.0    1.0   600.0  2000.0  "
      ]
     },
     "execution_count": 11,
     "metadata": {},
     "output_type": "execute_result"
    }
   ],
   "source": [
    "eta = 1.0\n",
    "M = 3\n",
    "gbm_l1 = l1boost(df_l1, 'rent', eta, M)\n",
    "print(gbm_l1.splits())\n",
    "mse = np.array([mean_squared_error(df_l1.rent, df_l1['F'+str(s)]) for s in range(M+1)])\n",
    "mse_sqrt = np.array(np.sqrt([mean_squared_error(df_l1.rent, df_l1['F'+str(s)]) for s in range(M+1)]))\n",
    "mae = np.array([mean_absolute_error(df_l1.rent, df_l1['F'+str(s)]) for s in range(M+1)])\n",
    "print(mse)\n",
    "print(mse_sqrt)\n",
    "print(mae)\n",
    "df_l1"
   ]
  },
  {
   "cell_type": "code",
   "execution_count": 12,
   "metadata": {},
   "outputs": [
    {
     "name": "stdout",
     "output_type": "stream",
     "text": [
      "925.0\n"
     ]
    },
    {
     "data": {
      "image/png": "[encoded data removed]",
      "text/plain": [
       "<IPython.core.display.Image object>"
      ]
     },
     "execution_count": 12,
     "metadata": {},
     "output_type": "execute_result"
    }
   ],
   "source": [
    "# t = tree.DecisionTreeRegressor(max_depth=1)\n",
    "# t.fit(df.sqfeet.values.reshape(-1, 1), df.res1)\n",
    "# t.predict(df.sqfeet.values.reshape(-1, 1))\n",
    "# print(get_leaf_samples(t)[1], get_leaf_samples(t)[2])\n",
    "# print(t.tree_.threshold[0])\n",
    "\n",
    "t = L2Stump(df_l1.sqfeet, df_l2.res1)\n",
    "print(t.split)\n",
    "\n",
    "dot_data = StringIO()\n",
    "tree.export_graphviz(t.tree_, dot_data, special_characters=True)\n",
    "graph = pydotplus.graph_from_dot_data(dot_data.getvalue())  \n",
    "Image(graph.create_png())\n"
   ]
  },
  {
   "cell_type": "markdown",
   "metadata": {},
   "source": [
    "## Show decision tree for L1 residual"
   ]
  },
  {
   "cell_type": "code",
   "execution_count": 13,
   "metadata": {},
   "outputs": [
    {
     "name": "stdout",
     "output_type": "stream",
     "text": [
      "825.0\n"
     ]
    },
    {
     "data": {
      "image/png": "[encoded data removed]",
      "text/plain": [
       "<IPython.core.display.Image object>"
      ]
     },
     "execution_count": 13,
     "metadata": {},
     "output_type": "execute_result"
    }
   ],
   "source": [
    "# t = tree.DecisionTreeRegressor(max_depth=1)\n",
    "# t.fit(df.sqfeet.values.reshape(-1, 1), df.sign1)\n",
    "# t.predict(df.sqfeet.values.reshape(-1, 1))\n",
    "# print(get_leaf_samples(t)[1], get_leaf_samples(t)[2])\n",
    "# print(t.tree_.threshold[0])\n",
    "\n",
    "t = L1Stump(df_l1.sqfeet, df_l1.sign1, df_l1.res1)\n",
    "print(t.split)\n",
    "\n",
    "dot_data = StringIO()\n",
    "tree.export_graphviz(t.tree_, dot_data, special_characters=True)\n",
    "graph = pydotplus.graph_from_dot_data(dot_data.getvalue())  \n",
    "Image(graph.create_png())"
   ]
  }
 ],
 "metadata": {
  "kernelspec": {
   "display_name": "Python 3",
   "language": "python",
   "name": "python3"
  },
  "language_info": {
   "codemirror_mode": {
    "name": "ipython",
    "version": 3
   },
   "file_extension": ".py",
   "mimetype": "text/x-python",
   "name": "python",
   "nbconvert_exporter": "python",
   "pygments_lexer": "ipython3",
   "version": "3.6.5"
  }
 },
 "nbformat": 4,
 "nbformat_minor": 2
}
