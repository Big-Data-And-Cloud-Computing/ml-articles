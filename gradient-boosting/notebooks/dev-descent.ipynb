{
 "cells": [
  {
   "cell_type": "code",
   "execution_count": 1,
   "metadata": {},
   "outputs": [
    {
     "data": {
      "text/plain": [
       "[<matplotlib.lines.Line2D at 0x119196278>]"
      ]
     },
     "execution_count": 1,
     "metadata": {},
     "output_type": "execute_result"
    }
   ],
   "source": [
    "import pandas as pd\n",
    "import matplotlib.pyplot as plt\n",
    "from matplotlib import rc\n",
    "import matplotlib\n",
    "import numpy as np\n",
    "import collections\n",
    "\n",
    "from scipy.optimize import minimize_scalar\n",
    "from sklearn.metrics import mean_squared_error, mean_absolute_error\n",
    "#rc('text', usetex=True)\n",
    "matplotlib.rcParams['mathtext.fontset'] = 'cm'\n",
    "matplotlib.rcParams['mathtext.rm'] = 'serif'\n",
    "matplotlib.rc('xtick', labelsize=13) \n",
    "matplotlib.rc('ytick', labelsize=13) \n",
    "\n",
    "bookcolors = {'crimson': '#a50026', 'red': '#d73027', 'redorange': '#f46d43',\n",
    "              'orange': '#fdae61', 'yellow': '#fee090', 'sky': '#e0f3f8', \n",
    "              'babyblue': '#abd9e9', 'lightblue': '#74add1', 'blue': '#4575b4',\n",
    "              'purple': '#313695'}\n",
    "\n",
    "def data():\n",
    "    df = pd.DataFrame(data={\"sqfeet\":[700, 750, 800, 850, 900,950,1000]})\n",
    "    df[\"rent\"] = pd.Series([1160, 1160, 1175, 1200, 1280,1310,2000])\n",
    "    df = df.sort_values('sqfeet')\n",
    "    return df\n",
    "\n",
    "def get_leaf_samples(t):\n",
    "    samples = collections.defaultdict(list)\n",
    "    dec_paths = t.decision_path(df.sqfeet.values.reshape(-1, 1))\n",
    "    for d, dec in enumerate(dec_paths):\n",
    "        for i in range(t.tree_.node_count):\n",
    "            if dec.toarray()[0][i]  == 1:\n",
    "                samples[i].append(d)\n",
    "    return samples\n",
    "\n",
    "df = data()\n",
    "plt.plot(df.sqfeet,df.rent,'o')\n",
    "\n",
    "m = df.rent.mean()\n",
    "mm = np.empty(len(df))\n",
    "mm.fill(m)\n",
    "plt.plot(df.sqfeet,mm)\n",
    "\n",
    "md = df.rent.median()\n",
    "md2 = np.empty(len(df))\n",
    "md2.fill(md)\n",
    "plt.plot(df.sqfeet,md2, linestyle=':')"
   ]
  },
  {
   "cell_type": "code",
   "execution_count": 2,
   "metadata": {},
   "outputs": [
    {
     "data": {
      "text/html": [
       "<div>\n",
       "<style scoped>\n",
       "    .dataframe tbody tr th:only-of-type {\n",
       "        vertical-align: middle;\n",
       "    }\n",
       "\n",
       "    .dataframe tbody tr th {\n",
       "        vertical-align: top;\n",
       "    }\n",
       "\n",
       "    .dataframe thead th {\n",
       "        text-align: right;\n",
       "    }\n",
       "</style>\n",
       "<table border=\"1\" class=\"dataframe\">\n",
       "  <thead>\n",
       "    <tr style=\"text-align: right;\">\n",
       "      <th></th>\n",
       "      <th>sqfeet</th>\n",
       "      <th>rent</th>\n",
       "      <th>F0</th>\n",
       "      <th>res1</th>\n",
       "      <th>sign1</th>\n",
       "    </tr>\n",
       "  </thead>\n",
       "  <tbody>\n",
       "    <tr>\n",
       "      <th>0</th>\n",
       "      <td>700</td>\n",
       "      <td>1160</td>\n",
       "      <td>1200.0</td>\n",
       "      <td>-40.0</td>\n",
       "      <td>-1.0</td>\n",
       "    </tr>\n",
       "    <tr>\n",
       "      <th>1</th>\n",
       "      <td>750</td>\n",
       "      <td>1160</td>\n",
       "      <td>1200.0</td>\n",
       "      <td>-40.0</td>\n",
       "      <td>-1.0</td>\n",
       "    </tr>\n",
       "    <tr>\n",
       "      <th>2</th>\n",
       "      <td>800</td>\n",
       "      <td>1175</td>\n",
       "      <td>1200.0</td>\n",
       "      <td>-25.0</td>\n",
       "      <td>-1.0</td>\n",
       "    </tr>\n",
       "    <tr>\n",
       "      <th>3</th>\n",
       "      <td>850</td>\n",
       "      <td>1200</td>\n",
       "      <td>1200.0</td>\n",
       "      <td>0.0</td>\n",
       "      <td>0.0</td>\n",
       "    </tr>\n",
       "    <tr>\n",
       "      <th>4</th>\n",
       "      <td>900</td>\n",
       "      <td>1280</td>\n",
       "      <td>1200.0</td>\n",
       "      <td>80.0</td>\n",
       "      <td>1.0</td>\n",
       "    </tr>\n",
       "    <tr>\n",
       "      <th>5</th>\n",
       "      <td>950</td>\n",
       "      <td>1310</td>\n",
       "      <td>1200.0</td>\n",
       "      <td>110.0</td>\n",
       "      <td>1.0</td>\n",
       "    </tr>\n",
       "    <tr>\n",
       "      <th>6</th>\n",
       "      <td>1000</td>\n",
       "      <td>2000</td>\n",
       "      <td>1200.0</td>\n",
       "      <td>800.0</td>\n",
       "      <td>1.0</td>\n",
       "    </tr>\n",
       "  </tbody>\n",
       "</table>\n",
       "</div>"
      ],
      "text/plain": [
       "   sqfeet  rent      F0   res1  sign1\n",
       "0     700  1160  1200.0  -40.0   -1.0\n",
       "1     750  1160  1200.0  -40.0   -1.0\n",
       "2     800  1175  1200.0  -25.0   -1.0\n",
       "3     850  1200  1200.0    0.0    0.0\n",
       "4     900  1280  1200.0   80.0    1.0\n",
       "5     950  1310  1200.0  110.0    1.0\n",
       "6    1000  2000  1200.0  800.0    1.0"
      ]
     },
     "execution_count": 2,
     "metadata": {},
     "output_type": "execute_result"
    }
   ],
   "source": [
    "M = 1\n",
    "f0 = df.rent.median()\n",
    "df['F0'] = f0\n",
    "\n",
    "for s in range(1,M+1):\n",
    "    df[f'res{s}'] = df.rent - df[f'F{s-1}']\n",
    "    df[f'sign{s}'] = np.sign(df[f'res{s}'])\n",
    "\n",
    "df"
   ]
  },
  {
   "cell_type": "markdown",
   "metadata": {},
   "source": [
    "## Show decision tree for residual"
   ]
  },
  {
   "cell_type": "code",
   "execution_count": 6,
   "metadata": {},
   "outputs": [
    {
     "name": "stdout",
     "output_type": "stream",
     "text": [
      "[0, 1, 2, 3, 4, 5] [6]\n"
     ]
    }
   ],
   "source": [
    "from sklearn import tree\n",
    "from sklearn.externals.six import StringIO  \n",
    "import pydotplus # must install\n",
    "from IPython.display import Image  \n",
    "\n",
    "t = tree.DecisionTreeRegressor(max_depth=1)\n",
    "t.fit(df.sqfeet.values.reshape(-1, 1), df.res1)\n",
    "t.predict(df.sqfeet.values.reshape(-1, 1))\n",
    "dot_data = StringIO()\n",
    "tree.export_graphviz(t, dot_data, special_characters=True)\n",
    "graph = pydotplus.graph_from_dot_data(dot_data.getvalue())  \n",
    "Image(graph.create_png())\n",
    "print(get_leaf_samples(t)[1], get_leaf_samples(t)[2])"
   ]
  },
  {
   "cell_type": "markdown",
   "metadata": {},
   "source": [
    "## Show decision tree for residual"
   ]
  },
  {
   "cell_type": "code",
   "execution_count": 4,
   "metadata": {},
   "outputs": [
    {
     "name": "stdout",
     "output_type": "stream",
     "text": [
      "[0, 1, 2] [3, 4, 5, 6]\n"
     ]
    }
   ],
   "source": [
    "t = tree.DecisionTreeRegressor(max_depth=1)\n",
    "t.fit(df.sqfeet.values.reshape(-1, 1), df.sign1)\n",
    "t.predict(df.sqfeet.values.reshape(-1, 1))\n",
    "dot_data = StringIO()\n",
    "tree.export_graphviz(t, dot_data, special_characters=True)\n",
    "graph = pydotplus.graph_from_dot_data(dot_data.getvalue())  \n",
    "Image(graph.create_png())\n",
    "print(get_leaf_samples(t)[1], get_leaf_samples(t)[2])"
   ]
  }
 ],
 "metadata": {
  "kernelspec": {
   "display_name": "Python 3",
   "language": "python",
   "name": "python3"
  },
  "language_info": {
   "codemirror_mode": {
    "name": "ipython",
    "version": 3
   },
   "file_extension": ".py",
   "mimetype": "text/x-python",
   "name": "python",
   "nbconvert_exporter": "python",
   "pygments_lexer": "ipython3",
   "version": "3.6.5"
  }
 },
 "nbformat": 4,
 "nbformat_minor": 2
}
