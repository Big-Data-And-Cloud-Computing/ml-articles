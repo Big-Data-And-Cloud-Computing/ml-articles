{
 "cells": [
  {
   "cell_type": "code",
   "execution_count": 1,
   "metadata": {},
   "outputs": [],
   "source": [
    "from support import *"
   ]
  },
  {
   "cell_type": "code",
   "execution_count": 2,
   "metadata": {},
   "outputs": [
    {
     "data": {
      "text/html": [
       "<div>\n",
       "<style scoped>\n",
       "    .dataframe tbody tr th:only-of-type {\n",
       "        vertical-align: middle;\n",
       "    }\n",
       "\n",
       "    .dataframe tbody tr th {\n",
       "        vertical-align: top;\n",
       "    }\n",
       "\n",
       "    .dataframe thead th {\n",
       "        text-align: right;\n",
       "    }\n",
       "</style>\n",
       "<table border=\"1\" class=\"dataframe\">\n",
       "  <thead>\n",
       "    <tr style=\"text-align: right;\">\n",
       "      <th></th>\n",
       "      <th>sqfeet</th>\n",
       "      <th>rent</th>\n",
       "    </tr>\n",
       "  </thead>\n",
       "  <tbody>\n",
       "    <tr>\n",
       "      <th>0</th>\n",
       "      <td>750</td>\n",
       "      <td>1160</td>\n",
       "    </tr>\n",
       "    <tr>\n",
       "      <th>1</th>\n",
       "      <td>800</td>\n",
       "      <td>1175</td>\n",
       "    </tr>\n",
       "    <tr>\n",
       "      <th>2</th>\n",
       "      <td>850</td>\n",
       "      <td>1200</td>\n",
       "    </tr>\n",
       "    <tr>\n",
       "      <th>3</th>\n",
       "      <td>900</td>\n",
       "      <td>1250</td>\n",
       "    </tr>\n",
       "    <tr>\n",
       "      <th>4</th>\n",
       "      <td>950</td>\n",
       "      <td>2000</td>\n",
       "    </tr>\n",
       "  </tbody>\n",
       "</table>\n",
       "</div>"
      ],
      "text/plain": [
       "   sqfeet  rent\n",
       "0     750  1160\n",
       "1     800  1175\n",
       "2     850  1200\n",
       "3     900  1250\n",
       "4     950  2000"
      ]
     },
     "execution_count": 2,
     "metadata": {},
     "output_type": "execute_result"
    }
   ],
   "source": [
    "df = data()\n",
    "df"
   ]
  },
  {
   "cell_type": "markdown",
   "metadata": {},
   "source": [
    "## Train tree using sign vector"
   ]
  },
  {
   "cell_type": "code",
   "execution_count": 3,
   "metadata": {},
   "outputs": [
    {
     "name": "stdout",
     "output_type": "stream",
     "text": [
      "[128945.0, 113022.5, 111961.25, 545.9375]\n",
      "[183.0, 163.0, 161.5, 12.25]\n"
     ]
    },
    {
     "data": {
      "text/html": [
       "<div>\n",
       "<style scoped>\n",
       "    .dataframe tbody tr th:only-of-type {\n",
       "        vertical-align: middle;\n",
       "    }\n",
       "\n",
       "    .dataframe tbody tr th {\n",
       "        vertical-align: top;\n",
       "    }\n",
       "\n",
       "    .dataframe thead th {\n",
       "        text-align: right;\n",
       "    }\n",
       "</style>\n",
       "<table border=\"1\" class=\"dataframe\">\n",
       "  <thead>\n",
       "    <tr style=\"text-align: right;\">\n",
       "      <th></th>\n",
       "      <th>sqfeet</th>\n",
       "      <th>rent</th>\n",
       "      <th>F0</th>\n",
       "      <th>res1</th>\n",
       "      <th>sign1</th>\n",
       "      <th>delta1</th>\n",
       "      <th>F1</th>\n",
       "      <th>res2</th>\n",
       "      <th>sign2</th>\n",
       "      <th>delta2</th>\n",
       "      <th>F2</th>\n",
       "      <th>res3</th>\n",
       "      <th>sign3</th>\n",
       "      <th>delta3</th>\n",
       "      <th>F3</th>\n",
       "    </tr>\n",
       "  </thead>\n",
       "  <tbody>\n",
       "    <tr>\n",
       "      <th>0</th>\n",
       "      <td>750</td>\n",
       "      <td>1160</td>\n",
       "      <td>1200.0</td>\n",
       "      <td>-40.0</td>\n",
       "      <td>-1.0</td>\n",
       "      <td>-32.5</td>\n",
       "      <td>1167.5</td>\n",
       "      <td>-7.5</td>\n",
       "      <td>-1.0</td>\n",
       "      <td>-7.50</td>\n",
       "      <td>1160.00</td>\n",
       "      <td>0.00</td>\n",
       "      <td>0.0</td>\n",
       "      <td>-1.875</td>\n",
       "      <td>1158.125</td>\n",
       "    </tr>\n",
       "    <tr>\n",
       "      <th>1</th>\n",
       "      <td>800</td>\n",
       "      <td>1175</td>\n",
       "      <td>1200.0</td>\n",
       "      <td>-25.0</td>\n",
       "      <td>-1.0</td>\n",
       "      <td>-32.5</td>\n",
       "      <td>1167.5</td>\n",
       "      <td>7.5</td>\n",
       "      <td>1.0</td>\n",
       "      <td>3.75</td>\n",
       "      <td>1171.25</td>\n",
       "      <td>3.75</td>\n",
       "      <td>1.0</td>\n",
       "      <td>-1.875</td>\n",
       "      <td>1169.375</td>\n",
       "    </tr>\n",
       "    <tr>\n",
       "      <th>2</th>\n",
       "      <td>850</td>\n",
       "      <td>1200</td>\n",
       "      <td>1200.0</td>\n",
       "      <td>0.0</td>\n",
       "      <td>0.0</td>\n",
       "      <td>50.0</td>\n",
       "      <td>1250.0</td>\n",
       "      <td>-50.0</td>\n",
       "      <td>-1.0</td>\n",
       "      <td>3.75</td>\n",
       "      <td>1253.75</td>\n",
       "      <td>-53.75</td>\n",
       "      <td>-1.0</td>\n",
       "      <td>-1.875</td>\n",
       "      <td>1251.875</td>\n",
       "    </tr>\n",
       "    <tr>\n",
       "      <th>3</th>\n",
       "      <td>900</td>\n",
       "      <td>1250</td>\n",
       "      <td>1200.0</td>\n",
       "      <td>50.0</td>\n",
       "      <td>1.0</td>\n",
       "      <td>50.0</td>\n",
       "      <td>1250.0</td>\n",
       "      <td>0.0</td>\n",
       "      <td>0.0</td>\n",
       "      <td>3.75</td>\n",
       "      <td>1253.75</td>\n",
       "      <td>-3.75</td>\n",
       "      <td>-1.0</td>\n",
       "      <td>-1.875</td>\n",
       "      <td>1251.875</td>\n",
       "    </tr>\n",
       "    <tr>\n",
       "      <th>4</th>\n",
       "      <td>950</td>\n",
       "      <td>2000</td>\n",
       "      <td>1200.0</td>\n",
       "      <td>800.0</td>\n",
       "      <td>1.0</td>\n",
       "      <td>50.0</td>\n",
       "      <td>1250.0</td>\n",
       "      <td>750.0</td>\n",
       "      <td>1.0</td>\n",
       "      <td>3.75</td>\n",
       "      <td>1253.75</td>\n",
       "      <td>746.25</td>\n",
       "      <td>1.0</td>\n",
       "      <td>746.250</td>\n",
       "      <td>2000.000</td>\n",
       "    </tr>\n",
       "  </tbody>\n",
       "</table>\n",
       "</div>"
      ],
      "text/plain": [
       "   sqfeet  rent      F0   res1  sign1  delta1      F1   res2  sign2  delta2  \\\n",
       "0     750  1160  1200.0  -40.0   -1.0   -32.5  1167.5   -7.5   -1.0   -7.50   \n",
       "1     800  1175  1200.0  -25.0   -1.0   -32.5  1167.5    7.5    1.0    3.75   \n",
       "2     850  1200  1200.0    0.0    0.0    50.0  1250.0  -50.0   -1.0    3.75   \n",
       "3     900  1250  1200.0   50.0    1.0    50.0  1250.0    0.0    0.0    3.75   \n",
       "4     950  2000  1200.0  800.0    1.0    50.0  1250.0  750.0    1.0    3.75   \n",
       "\n",
       "        F2    res3  sign3   delta3        F3  \n",
       "0  1160.00    0.00    0.0   -1.875  1158.125  \n",
       "1  1171.25    3.75    1.0   -1.875  1169.375  \n",
       "2  1253.75  -53.75   -1.0   -1.875  1251.875  \n",
       "3  1253.75   -3.75   -1.0   -1.875  1251.875  \n",
       "4  1253.75  746.25    1.0  746.250  2000.000  "
      ]
     },
     "execution_count": 3,
     "metadata": {},
     "output_type": "execute_result"
    }
   ],
   "source": [
    "M = 3\n",
    "eta = 1\n",
    "splits = [None,850, 925, 725] # manually pick them\n",
    "gbm = l1boost(df, 'rent', eta, M)\n",
    "\n",
    "mse = [mean_squared_error(df.rent, df['F'+str(s)]) for s in range(M+1)]\n",
    "mae = [mean_absolute_error(df.rent, df['F'+str(s)]) for s in range(M+1)]\n",
    "print(mse)\n",
    "print(mae)\n",
    "df"
   ]
  },
  {
   "cell_type": "code",
   "execution_count": 4,
   "metadata": {},
   "outputs": [
    {
     "name": "stdout",
     "output_type": "stream",
     "text": [
      "Tree 0: split @ 825.0; [-40. -25.] | [  0.  50. 800.]\n",
      "Tree 1: split @ 775.0; [-7.5] | [  7.5 -50.    0.  750. ]\n",
      "Tree 2: split @ 925.0; [  0.     3.75 -53.75  -3.75] | [746.25]\n",
      "\n"
     ]
    }
   ],
   "source": [
    "print(gbm)"
   ]
  },
  {
   "cell_type": "code",
   "execution_count": 5,
   "metadata": {},
   "outputs": [
    {
     "name": "stdout",
     "output_type": "stream",
     "text": [
      "750 & 1160 & 1200 & -40 & -1\\\\\n",
      "800 & 1175 & 1200 & -25 & -1\\\\\n",
      "850 & 1200 & 1200 & 0 & 0\\\\\n",
      "900 & 1250 & 1200 & 50 & 1\\\\\n",
      "950 & 2000 & 1200 & 800 & 1\\\\\n",
      "-32.50 & 1167.50 & -7.50 & -1 & -7.50 & 1160 & 0 & 0 & -1.88 & 1158.12\\\\\n",
      "-32.50 & 1167.50 & 7.50 & 1 & 3.75 & 1171.25 & 3.75 & 1 & -1.88 & 1169.38\\\\\n",
      "50 & 1250 & -50 & -1 & 3.75 & 1253.75 & -53.75 & -1 & -1.88 & 1251.88\\\\\n",
      "50 & 1250 & 0 & 0 & 3.75 & 1253.75 & -3.75 & -1 & -1.88 & 1251.88\\\\\n",
      "50 & 1250 & 750 & 1 & 3.75 & 1253.75 & 746.25 & 1 & 746.25 & 2000\\\\\n",
      "\n"
     ]
    }
   ],
   "source": [
    "o = \"\"\n",
    "for i in range(len(df)):\n",
    "    o += \" & \".join([f\"{v:.2f}\" for v in df.iloc[i,:][['sqfeet','rent','F0','res1','sign1']]]) + \"\\\\\\\\\" + \"\\n\"\n",
    "\n",
    "#F = df[['sqfeet','rent',F0','F1','F2','F3']]\n",
    "for i in range(len(df)):\n",
    "    o += \" & \".join([f\"{v:.2f}\" for v in df.iloc[i,5:]]) + r\"\\\\\" + \"\\n\"\n",
    "\n",
    "o = o.replace(\".00\", \"\")\n",
    "print(o)"
   ]
  },
  {
   "cell_type": "markdown",
   "metadata": {},
   "source": [
    "## Plot F0 vs rent and show sign vectors"
   ]
  },
  {
   "cell_type": "code",
   "execution_count": 6,
   "metadata": {},
   "outputs": [
    {
     "data": {
      "image/png": "[encoded data removed]",
      "text/plain": [
       "<Figure size 288x252 with 1 Axes>"
      ]
     },
     "metadata": {},
     "output_type": "display_data"
    }
   ],
   "source": [
    "f0 = df.rent.median()\n",
    "fig, axes = plt.subplots(nrows=1, ncols=1, figsize=(4, 3.5), sharey=True)\n",
    "\n",
    "ax = axes\n",
    "line1, = ax.plot(df.sqfeet,df.rent,'o', linewidth=.8, markersize=4, label=\"$y$\")\n",
    "# fake a line to get smaller red dot\n",
    "line2, = ax.plot([0,0],[0,0], c='r', markersize=4, label=r\"$sign(y-f_0({\\bf x}))$\", linewidth=.8)\n",
    "ax.plot([df.sqfeet.min()-10,df.sqfeet.max()+10], [f0,f0],\n",
    "         linewidth=.8, linestyle='--', c='k')\n",
    "ax.set_xlim(df.sqfeet.min()-10,df.sqfeet.max()+10)\n",
    "ax.set_ylim(df.rent.min()-10, df.rent.max()+20)\n",
    "ax.text(815, f0+10, r\"$f_0({\\bf x})$\", fontsize=18)\n",
    "\n",
    "ax.set_ylabel(r\"Rent ($y$)\", fontsize=14)\n",
    "ax.set_xlabel(r\"SqFeet (${\\bf x}$)\", fontsize=14)\n",
    "\n",
    "# draw arrows\n",
    "for x,y,yhat in zip(df.sqfeet,df.rent,df.F0):\n",
    "    draw_vector(ax, x, yhat, 0, np.sign(y-yhat)*2, df.rent.max()-df.rent.min())\n",
    "    \n",
    "ax.legend(handles=[line2], fontsize=16,\n",
    "          loc='upper left', \n",
    "          labelspacing=.1,\n",
    "          handletextpad=.2,\n",
    "          handlelength=.7,\n",
    "          frameon=True)\n",
    "\n",
    "plt.tight_layout()\n",
    "plt.show()"
   ]
  },
  {
   "cell_type": "markdown",
   "metadata": {},
   "source": [
    "## Show global weight not per leaf"
   ]
  },
  {
   "cell_type": "code",
   "execution_count": 7,
   "metadata": {},
   "outputs": [
    {
     "data": {
      "image/png": "[encoded data removed]",
      "text/plain": [
       "<Figure size 288x252 with 1 Axes>"
      ]
     },
     "metadata": {},
     "output_type": "display_data"
    }
   ],
   "source": [
    "f0 = df.rent.median()\n",
    "fig, axes = plt.subplots(nrows=1, ncols=1, figsize=(4, 3.5), sharey=True)\n",
    "\n",
    "ax = axes\n",
    "line1, = ax.plot(df.sqfeet,df.rent,'o', linewidth=.8, markersize=4, label=\"$y$\")\n",
    "# fake a line to get smaller red dot\n",
    "line2, = ax.plot([0,0],[0,0], c='r', markersize=4, label=r\"$100 \\Delta_1({\\bf x})$\", linewidth=.8)\n",
    "ax.plot([df.sqfeet.min()-10,df.sqfeet.max()+10], [f0,f0],\n",
    "         linewidth=.8, linestyle='--', c='k')\n",
    "ax.set_xlim(df.sqfeet.min()-10,df.sqfeet.max()+10)\n",
    "ax.set_ylim(df.rent.min()-150, df.rent.max()+20)\n",
    "ax.text(800, f0+30, r\"$f_0({\\bf x})$\", fontsize=18)\n",
    "\n",
    "ax.arrow(880,f0-100, -20, 0, linewidth=.8, head_width=6, head_length=4)\n",
    "ax.text(880, f0-100-8, \"Oops!\", fontsize=14)\n",
    "\n",
    "ax.set_ylabel(r\"Rent ($y$)\", fontsize=14)\n",
    "ax.set_xlabel(r\"SqFeet (${\\bf x}$)\", fontsize=14)\n",
    "\n",
    "# draw arrows\n",
    "for x,y,yhat in zip(df.sqfeet,df.rent,df.F0):\n",
    "    draw_vector(ax, x, yhat, 0, (np.sign(y-yhat) if y-yhat>0 else -1)*100, df.rent.max()-df.rent.min())\n",
    "    \n",
    "ax.legend(handles=[line2], fontsize=16,\n",
    "          loc='upper left', \n",
    "          labelspacing=.1,\n",
    "          handletextpad=.2,\n",
    "          handlelength=.7,\n",
    "          frameon=True)\n",
    "\n",
    "plt.tight_layout()\n",
    "plt.show()"
   ]
  },
  {
   "cell_type": "markdown",
   "metadata": {},
   "source": [
    "## Using leaf-specific Weights"
   ]
  },
  {
   "cell_type": "code",
   "execution_count": 8,
   "metadata": {},
   "outputs": [
    {
     "data": {
      "image/png": "[encoded data removed]",
      "text/plain": [
       "<Figure size 288x252 with 1 Axes>"
      ]
     },
     "metadata": {},
     "output_type": "display_data"
    }
   ],
   "source": [
    "f0 = df.rent.median()\n",
    "fig, axes = plt.subplots(nrows=1, ncols=1, figsize=(4, 3.5), sharey=True)\n",
    "\n",
    "ax = axes\n",
    "line1, = ax.plot(df.sqfeet,df.rent,'o', linewidth=.8, markersize=4, label=\"$y$\")\n",
    "# fake a line to get smaller red dot\n",
    "line2, = ax.plot([0,0],[0,0], c=bookcolors['red'], markersize=4, label=r\"$15sign(y-f_0({\\bf x}))$\", linewidth=.8)\n",
    "line3, = ax.plot([0,0],[0,0], c=bookcolors['red'], markersize=4, label=r\"$175sign(y-f_0({\\bf x}))$\", linewidth=.8)\n",
    "ax.plot([df.sqfeet.min()-10,df.sqfeet.max()+10], [f0,f0],\n",
    "         linewidth=.8, linestyle='--', c='k')\n",
    "ax.set_xlim(df.sqfeet.min()-10,df.sqfeet.max()+10)\n",
    "ax.set_ylim(df.rent.min()-30, df.rent.max()+20)\n",
    "ax.text(800, f0+30, r\"$f_0({\\bf x})$\", fontsize=18)\n",
    "\n",
    "ax.set_ylabel(r\"Rent ($y$)\", fontsize=14)\n",
    "ax.set_xlabel(r\"SqFeet (${\\bf x}$)\", fontsize=14)\n",
    "\n",
    "def draw_stage_residual(ax, df, stage):\n",
    "    for x,d0,delta in zip(df.sqfeet,df[f'F{stage-1}'],df[f'F{stage}']):\n",
    "        draw_vector(ax, x, d0, 0, delta-d0, df.rent.max()-df.rent.min())\n",
    "\n",
    "draw_stage_residual(ax, df, 1)\n",
    "# # draw arrows\n",
    "# for x,y,yhat in zip(df.sqfeet,df.rent,df.F0):\n",
    "#     if x<splits[1]:\n",
    "#         draw_vector(ax, x, yhat, 0, np.sign(y-yhat)*15, df.rent.max()-df.rent.min())\n",
    "\n",
    "# for x,y,yhat in zip(df.sqfeet,df.rent,df.F0):\n",
    "#     if x>=splits[1]:\n",
    "#         draw_vector(ax, x, yhat, 0, np.sign(y-yhat)*175, df.rent.max()-df.rent.min(),\n",
    "#                    c=bookcolors['orange'])\n",
    "\n",
    "ax.legend(handles=[line2,line3], fontsize=16,\n",
    "          loc='center left', \n",
    "          labelspacing=.1,\n",
    "          handletextpad=.2,\n",
    "          handlelength=.7,\n",
    "          frameon=True)\n",
    "\n",
    "plt.tight_layout()\n",
    "plt.savefig('/tmp/s.svg')\n",
    "plt.show()"
   ]
  },
  {
   "cell_type": "code",
   "execution_count": 9,
   "metadata": {},
   "outputs": [
    {
     "ename": "TypeError",
     "evalue": "plot_composite() missing 1 required positional argument: 'stage'",
     "output_type": "error",
     "traceback": [
      "\u001b[0;31m---------------------------------------------------------------------------\u001b[0m",
      "\u001b[0;31mTypeError\u001b[0m                                 Traceback (most recent call last)",
      "\u001b[0;32m<ipython-input-9-2cdb263f7d52>\u001b[0m in \u001b[0;36m<module>\u001b[0;34m()\u001b[0m\n\u001b[1;32m      1\u001b[0m \u001b[0mfig\u001b[0m\u001b[0;34m,\u001b[0m \u001b[0max\u001b[0m \u001b[0;34m=\u001b[0m \u001b[0mplt\u001b[0m\u001b[0;34m.\u001b[0m\u001b[0msubplots\u001b[0m\u001b[0;34m(\u001b[0m\u001b[0mnrows\u001b[0m\u001b[0;34m=\u001b[0m\u001b[0;36m1\u001b[0m\u001b[0;34m,\u001b[0m \u001b[0mncols\u001b[0m\u001b[0;34m=\u001b[0m\u001b[0;36m1\u001b[0m\u001b[0;34m,\u001b[0m \u001b[0mfigsize\u001b[0m\u001b[0;34m=\u001b[0m\u001b[0;34m(\u001b[0m\u001b[0;36m5\u001b[0m\u001b[0;34m,\u001b[0m\u001b[0;36m3.8\u001b[0m\u001b[0;34m)\u001b[0m\u001b[0;34m)\u001b[0m\u001b[0;34m\u001b[0m\u001b[0m\n\u001b[1;32m      2\u001b[0m \u001b[0;34m\u001b[0m\u001b[0m\n\u001b[0;32m----> 3\u001b[0;31m \u001b[0mplot_composite\u001b[0m\u001b[0;34m(\u001b[0m\u001b[0max\u001b[0m\u001b[0;34m,\u001b[0m \u001b[0mgbm\u001b[0m\u001b[0;34m,\u001b[0m \u001b[0;36m1\u001b[0m\u001b[0;34m,\u001b[0m \u001b[0mlegend\u001b[0m\u001b[0;34m=\u001b[0m\u001b[0;32mFalse\u001b[0m\u001b[0;34m)\u001b[0m\u001b[0;34m\u001b[0m\u001b[0m\n\u001b[0m\u001b[1;32m      4\u001b[0m \u001b[0;34m\u001b[0m\u001b[0m\n\u001b[1;32m      5\u001b[0m ax.plot([df.sqfeet.min()-10,df.sqfeet.max()+10], [f0,f0],\n",
      "\u001b[0;31mTypeError\u001b[0m: plot_composite() missing 1 required positional argument: 'stage'"
     ]
    },
    {
     "data": {
      "image/png": "[encoded data removed]",
      "text/plain": [
       "<Figure size 360x273.6 with 1 Axes>"
      ]
     },
     "metadata": {},
     "output_type": "display_data"
    }
   ],
   "source": [
    "fig, ax = plt.subplots(nrows=1, ncols=1, figsize=(5,3.8))\n",
    "\n",
    "plot_composite(ax, gbm, 1, legend=False)\n",
    "\n",
    "ax.plot([df.sqfeet.min()-10,df.sqfeet.max()+10], [f0,f0],\n",
    "         linewidth=.8, linestyle=':', c='k')\n",
    "\n",
    "for x,d0,delta in zip(df.sqfeet,df[f'F0'],df[f'F1']):\n",
    "    draw_vector(ax, x, d0, 0, delta-d0, df.rent.max()-df.rent.min())\n",
    "\n",
    "ax.text(700-10, 1340, r\"$F_0 = f_0 + \\Delta_1({\\bf x}; {\\bf w}_1)$\", fontsize=18)\n",
    "ax.text(700-10, 1315, r\"${\\bf w}_1 = [15, 175]$\", fontsize=16)\n",
    "ax.text(900, f0-20, r\"$f_0({\\bf x})$\", fontsize=18)\n",
    "\n",
    "ax.set_ylabel(r\"Rent ($y$)\", fontsize=14)\n",
    "ax.set_xlabel(r\"SqFeet (${\\bf x}$)\", fontsize=14)\n",
    "\n",
    "plt.tight_layout()\n",
    "\n",
    "plt.show()"
   ]
  },
  {
   "cell_type": "code",
   "execution_count": null,
   "metadata": {},
   "outputs": [],
   "source": [
    "fig, axes = plt.subplots(nrows=1, ncols=3, figsize=(11, 4), sharey=True)\n",
    "\n",
    "def draw_stage_residual(ax, df, stage):\n",
    "    for x,d0,delta in zip(df.sqfeet,df[f'F{stage-1}'],df[f'F{stage}']):\n",
    "        draw_vector(ax, x, d0, 0, delta-d0, df.rent.max()-df.rent.min())\n",
    "\n",
    "# PLOT 1\n",
    "\n",
    "ax = axes[0]\n",
    "f0 = df.rent.median()\n",
    "line1, = ax.plot(df.sqfeet,df.rent,'o', linewidth=.8, markersize=4, label=\"$y$\")\n",
    "draw_stage_residual(ax, df, stage=1)\n",
    "# fake a line to get smaller red dot\n",
    "line2, = ax.plot(700,1000,linewidth=.8, c='r', markersize=4)\n",
    "ax.plot([df.sqfeet.min()-10,df.sqfeet.max()+10], [f0,f0],\n",
    "         linewidth=.8, linestyle='--', c='k')\n",
    "ax.text(815, f0+10, r\"$f_0({\\bf x})$\", fontsize=18)\n",
    "ax.set_xlim(df.sqfeet.min()-10,df.sqfeet.max()+10)\n",
    "ax.set_ylim(df.rent.min()-10, df.rent.max()+10)\n",
    "ax.set_xlabel(r\"SqFeet\", fontsize=14)\n",
    "ax.set_ylabel(r\"Rent\", fontsize=14)\n",
    "ax.legend(handles=[line2], fontsize=15,\n",
    "          loc='upper left', \n",
    "          labelspacing=.1,\n",
    "          handletextpad=.2,\n",
    "          handlelength=.7,\n",
    "          frameon=True,\n",
    "          labels=[\"$\\Delta_1({\\\\bf x})$\"])\n",
    "\n",
    "# PLOT 2\n",
    "\n",
    "ax = axes[1]\n",
    "line1, = ax.plot(df.sqfeet,df.rent,'o', linewidth=.8, markersize=4, label=\"$y$\")\n",
    "draw_stage_residual(ax, df, stage=2)\n",
    "# fake a line to get smaller red dot\n",
    "line2, = ax.plot(700,1000,linewidth=.8, c='r', markersize=4)\n",
    "ax.plot([df.sqfeet.min()-10,df.sqfeet.max()+10], [f0,f0],\n",
    "         linewidth=.8, linestyle='--', c='k')\n",
    "ax.text(815, f0+10, r\"$f_0({\\bf x})$\", fontsize=18)\n",
    "ax.set_xlim(df.sqfeet.min()-10,df.sqfeet.max()+10)\n",
    "ax.set_ylim(df.rent.min()-10, df.rent.max()+10)\n",
    "ax.set_xlabel(r\"SqFeet\", fontsize=14)\n",
    "ax.legend(handles=[line2], fontsize=15,\n",
    "          loc='upper left', \n",
    "          labelspacing=.1,\n",
    "          handletextpad=.2,\n",
    "          handlelength=.7,\n",
    "          frameon=True,\n",
    "          labels=[\"$\\Delta_2({\\\\bf x})$\"])\n",
    "\n",
    "# PLOT 3\n",
    "\n",
    "ax = axes[2]\n",
    "line1, = ax.plot(df.sqfeet,df.rent,'o', linewidth=.8, markersize=4, label=\"$y$\")\n",
    "draw_stage_residual(ax, df, stage=3)\n",
    "# fake a line to get smaller red dot\n",
    "line2, = ax.plot(700,1000,linewidth=.8, c='r', markersize=4)\n",
    "ax.plot([df.sqfeet.min()-10,df.sqfeet.max()+10], [f0,f0],\n",
    "         linewidth=.8, linestyle='--', c='k')\n",
    "ax.text(815, f0+10, r\"$f_0({\\bf x})$\", fontsize=18)\n",
    "ax.set_xlim(df.sqfeet.min()-10,df.sqfeet.max()+10)\n",
    "ax.set_ylim(df.rent.min()-10, df.rent.max()+10)\n",
    "ax.set_xlabel(r\"SqFeet\", fontsize=14)\n",
    "ax.legend(handles=[line2], fontsize=15,\n",
    "          loc='upper left', \n",
    "          labelspacing=.1,\n",
    "          handletextpad=.2,\n",
    "          handlelength=.7,\n",
    "          frameon=True,\n",
    "          labels=[\"$\\Delta_3({\\\\bf x})$\"])\n",
    "\n",
    "plt.tight_layout()\n",
    "plt.savefig('/tmp/s.svg')\n",
    "plt.show()"
   ]
  },
  {
   "cell_type": "code",
   "execution_count": null,
   "metadata": {},
   "outputs": [],
   "source": [
    "def draw_stump(ax, x_train, y_train, y_pred, split, stage):\n",
    "    line1, = ax.plot(x_train, y_train, 'o',\n",
    "                     markersize=4,\n",
    "                     label=\"$y-F_\"+str(stage-1)+\"({\\\\bf x})$\")\n",
    "    label = r\"$\\Delta_\"+str(stage)+r\"({\\bf x})$\"\n",
    "    left = y_pred[x_train<split]\n",
    "    right = y_pred[x_train>split]\n",
    "    lmean = np.mean(left)\n",
    "    rmean = np.mean(right)\n",
    "    line2, = ax.plot([x_train.min()-10,split], [lmean,lmean],\n",
    "             linewidth=.8, linestyle='--', c='k', label=label)\n",
    "    ax.plot([split,x_train.max()+10], [rmean,rmean],\n",
    "             linewidth=.8, linestyle='--', c='k')\n",
    "    ax.plot([split,split], [lmean,rmean],\n",
    "             linewidth=.8, linestyle='--', c='k')\n",
    "    ax.plot([x_train.min()-10,x_train.max()+10], [0,0],\n",
    "             linewidth=.8, linestyle=':', c='k')\n",
    "    ax.legend(handles=[line1,line2], fontsize=16,\n",
    "              loc='upper left', \n",
    "              labelspacing=.1,\n",
    "              handletextpad=.2,\n",
    "              handlelength=.7,\n",
    "              frameon=True)\n",
    "\n",
    "def draw_residual(ax, x_train, y_train, y_hat):\n",
    "    for x,y,yhat in zip(x_train, y_train, y_hat):\n",
    "        draw_vector(ax, x, yhat, 0, y-yhat, df.rent.max()-df.rent.min())\n",
    "\n",
    "fig, axes = plt.subplots(nrows=1, ncols=3, figsize=(10, 3.5), sharey=True)\n",
    "\n",
    "axes[0].set_ylabel(r\"Rent\", fontsize=14)\n",
    "for a in range(3):\n",
    "    axes[a].set_xlabel(r\"SqFeet\", fontsize=14)\n",
    "    axes[a].set_xlim(df.sqfeet.min()-10,df.sqfeet.max()+10)\n",
    "\n",
    "draw_stump(axes[0], df.sqfeet, df.res1, df.delta1, splits[1], stage=1)\n",
    "#draw_residual(axes[0], df.sqfeet,df.dir1,df.delta1)\n",
    "\n",
    "draw_stump(axes[1], df.sqfeet, df.res2, df.delta2, splits[2], stage=2)\n",
    "#draw_residual(axes[1], df.sqfeet,df.res2,df.delta2)\n",
    "\n",
    "draw_stump(axes[2], df.sqfeet, df.res3, df.delta3, splits[3], stage=3)\n",
    "#draw_residual(axes[2], df.sqfeet,df.dir3,df.delta3)\n",
    "\n",
    "plt.tight_layout()\n",
    "        \n",
    "plt.savefig('/tmp/t.svg')\n",
    "plt.show()"
   ]
  },
  {
   "cell_type": "markdown",
   "metadata": {},
   "source": [
    "## Show model stages"
   ]
  },
  {
   "cell_type": "code",
   "execution_count": null,
   "metadata": {},
   "outputs": [],
   "source": [
    "df = data()\n",
    "gbm = boost(df, 'sqfeet', 'rent', splits, eta, M)\n",
    "df['deltas12'] = 0.7 * df[['delta1','delta2']].sum(axis=1)\n",
    "df['deltas123'] = 0.7 * df[['delta1','delta2','delta3']].sum(axis=1)\n",
    "df['deltas'] = 0.7 * df[['delta1','delta2','delta3']].sum(axis=1) # sum deltas\n",
    "\n",
    "df[['sqfeet','rent','F0','delta1','delta2','delta3','deltas','deltas12','deltas123']]"
   ]
  },
  {
   "cell_type": "code",
   "execution_count": null,
   "metadata": {},
   "outputs": [],
   "source": [
    "fig, axes = plt.subplots(nrows=1, ncols=3, figsize=(11.1, 3.5))\n",
    "\n",
    "plot_composite(axes[0], gbm, 1)\n",
    "plot_composite(axes[1], gbm, 2)\n",
    "plot_composite(axes[2], gbm, 3)\n",
    "\n",
    "plt.tight_layout()\n",
    "plt.savefig('/tmp/u.svg')\n",
    "plt.show()"
   ]
  }
 ],
 "metadata": {
  "kernelspec": {
   "display_name": "Python 3",
   "language": "python",
   "name": "python3"
  },
  "language_info": {
   "codemirror_mode": {
    "name": "ipython",
    "version": 3
   },
   "file_extension": ".py",
   "mimetype": "text/x-python",
   "name": "python",
   "nbconvert_exporter": "python",
   "pygments_lexer": "ipython3",
   "version": "3.6.4"
  }
 },
 "nbformat": 4,
 "nbformat_minor": 2
}
