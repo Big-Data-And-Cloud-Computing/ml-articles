{
 "cells": [
  {
   "cell_type": "markdown",
   "metadata": {},
   "source": [
    "# Mean squared error boosting"
   ]
  },
  {
   "cell_type": "code",
   "execution_count": 1,
   "metadata": {},
   "outputs": [],
   "source": [
    "from support import *"
   ]
  },
  {
   "cell_type": "code",
   "execution_count": 2,
   "metadata": {},
   "outputs": [
    {
     "data": {
      "text/html": [
       "<div>\n",
       "<style scoped>\n",
       "    .dataframe tbody tr th:only-of-type {\n",
       "        vertical-align: middle;\n",
       "    }\n",
       "\n",
       "    .dataframe tbody tr th {\n",
       "        vertical-align: top;\n",
       "    }\n",
       "\n",
       "    .dataframe thead th {\n",
       "        text-align: right;\n",
       "    }\n",
       "</style>\n",
       "<table border=\"1\" class=\"dataframe\">\n",
       "  <thead>\n",
       "    <tr style=\"text-align: right;\">\n",
       "      <th></th>\n",
       "      <th>sqfeet</th>\n",
       "      <th>rent</th>\n",
       "    </tr>\n",
       "  </thead>\n",
       "  <tbody>\n",
       "    <tr>\n",
       "      <th>0</th>\n",
       "      <td>750</td>\n",
       "      <td>1160</td>\n",
       "    </tr>\n",
       "    <tr>\n",
       "      <th>1</th>\n",
       "      <td>800</td>\n",
       "      <td>1200</td>\n",
       "    </tr>\n",
       "    <tr>\n",
       "      <th>2</th>\n",
       "      <td>850</td>\n",
       "      <td>1280</td>\n",
       "    </tr>\n",
       "    <tr>\n",
       "      <th>3</th>\n",
       "      <td>900</td>\n",
       "      <td>1450</td>\n",
       "    </tr>\n",
       "    <tr>\n",
       "      <th>4</th>\n",
       "      <td>950</td>\n",
       "      <td>2000</td>\n",
       "    </tr>\n",
       "  </tbody>\n",
       "</table>\n",
       "</div>"
      ],
      "text/plain": [
       "   sqfeet  rent\n",
       "0     750  1160\n",
       "1     800  1200\n",
       "2     850  1280\n",
       "3     900  1450\n",
       "4     950  2000"
      ]
     },
     "execution_count": 2,
     "metadata": {},
     "output_type": "execute_result"
    }
   ],
   "source": [
    "df = data()\n",
    "df"
   ]
  },
  {
   "cell_type": "code",
   "execution_count": 3,
   "metadata": {},
   "outputs": [
    {
     "name": "stdout",
     "output_type": "stream",
     "text": [
      "[925.0, 825.0, 925.0]\n"
     ]
    },
    {
     "data": {
      "text/html": [
       "<div>\n",
       "<style scoped>\n",
       "    .dataframe tbody tr th:only-of-type {\n",
       "        vertical-align: middle;\n",
       "    }\n",
       "\n",
       "    .dataframe tbody tr th {\n",
       "        vertical-align: top;\n",
       "    }\n",
       "\n",
       "    .dataframe thead th {\n",
       "        text-align: right;\n",
       "    }\n",
       "</style>\n",
       "<table border=\"1\" class=\"dataframe\">\n",
       "  <thead>\n",
       "    <tr style=\"text-align: right;\">\n",
       "      <th></th>\n",
       "      <th>sqfeet</th>\n",
       "      <th>rent</th>\n",
       "      <th>F0</th>\n",
       "      <th>res1</th>\n",
       "      <th>delta1</th>\n",
       "      <th>F1</th>\n",
       "      <th>res2</th>\n",
       "      <th>delta2</th>\n",
       "      <th>F2</th>\n",
       "      <th>res3</th>\n",
       "      <th>delta3</th>\n",
       "      <th>F3</th>\n",
       "      <th>deltas</th>\n",
       "    </tr>\n",
       "  </thead>\n",
       "  <tbody>\n",
       "    <tr>\n",
       "      <th>0</th>\n",
       "      <td>750</td>\n",
       "      <td>1160</td>\n",
       "      <td>1418.0</td>\n",
       "      <td>-258.0</td>\n",
       "      <td>-145.5</td>\n",
       "      <td>1272.5</td>\n",
       "      <td>-112.5</td>\n",
       "      <td>-92.500000</td>\n",
       "      <td>1180.000000</td>\n",
       "      <td>-20.000000</td>\n",
       "      <td>15.416667</td>\n",
       "      <td>1195.416667</td>\n",
       "      <td>-222.583333</td>\n",
       "    </tr>\n",
       "    <tr>\n",
       "      <th>1</th>\n",
       "      <td>800</td>\n",
       "      <td>1200</td>\n",
       "      <td>1418.0</td>\n",
       "      <td>-218.0</td>\n",
       "      <td>-145.5</td>\n",
       "      <td>1272.5</td>\n",
       "      <td>-72.5</td>\n",
       "      <td>-92.500000</td>\n",
       "      <td>1180.000000</td>\n",
       "      <td>20.000000</td>\n",
       "      <td>15.416667</td>\n",
       "      <td>1195.416667</td>\n",
       "      <td>-222.583333</td>\n",
       "    </tr>\n",
       "    <tr>\n",
       "      <th>2</th>\n",
       "      <td>850</td>\n",
       "      <td>1280</td>\n",
       "      <td>1418.0</td>\n",
       "      <td>-138.0</td>\n",
       "      <td>-145.5</td>\n",
       "      <td>1272.5</td>\n",
       "      <td>7.5</td>\n",
       "      <td>61.666667</td>\n",
       "      <td>1334.166667</td>\n",
       "      <td>-54.166667</td>\n",
       "      <td>15.416667</td>\n",
       "      <td>1349.583333</td>\n",
       "      <td>-68.416667</td>\n",
       "    </tr>\n",
       "    <tr>\n",
       "      <th>3</th>\n",
       "      <td>900</td>\n",
       "      <td>1450</td>\n",
       "      <td>1418.0</td>\n",
       "      <td>32.0</td>\n",
       "      <td>-145.5</td>\n",
       "      <td>1272.5</td>\n",
       "      <td>177.5</td>\n",
       "      <td>61.666667</td>\n",
       "      <td>1334.166667</td>\n",
       "      <td>115.833333</td>\n",
       "      <td>15.416667</td>\n",
       "      <td>1349.583333</td>\n",
       "      <td>-68.416667</td>\n",
       "    </tr>\n",
       "    <tr>\n",
       "      <th>4</th>\n",
       "      <td>950</td>\n",
       "      <td>2000</td>\n",
       "      <td>1418.0</td>\n",
       "      <td>582.0</td>\n",
       "      <td>582.0</td>\n",
       "      <td>2000.0</td>\n",
       "      <td>0.0</td>\n",
       "      <td>61.666667</td>\n",
       "      <td>2061.666667</td>\n",
       "      <td>-61.666667</td>\n",
       "      <td>-61.666667</td>\n",
       "      <td>2000.000000</td>\n",
       "      <td>582.000000</td>\n",
       "    </tr>\n",
       "  </tbody>\n",
       "</table>\n",
       "</div>"
      ],
      "text/plain": [
       "   sqfeet  rent      F0   res1  delta1      F1   res2     delta2           F2  \\\n",
       "0     750  1160  1418.0 -258.0  -145.5  1272.5 -112.5 -92.500000  1180.000000   \n",
       "1     800  1200  1418.0 -218.0  -145.5  1272.5  -72.5 -92.500000  1180.000000   \n",
       "2     850  1280  1418.0 -138.0  -145.5  1272.5    7.5  61.666667  1334.166667   \n",
       "3     900  1450  1418.0   32.0  -145.5  1272.5  177.5  61.666667  1334.166667   \n",
       "4     950  2000  1418.0  582.0   582.0  2000.0    0.0  61.666667  2061.666667   \n",
       "\n",
       "         res3     delta3           F3      deltas  \n",
       "0  -20.000000  15.416667  1195.416667 -222.583333  \n",
       "1   20.000000  15.416667  1195.416667 -222.583333  \n",
       "2  -54.166667  15.416667  1349.583333  -68.416667  \n",
       "3  115.833333  15.416667  1349.583333  -68.416667  \n",
       "4  -61.666667 -61.666667  2000.000000  582.000000  "
      ]
     },
     "execution_count": 3,
     "metadata": {},
     "output_type": "execute_result"
    }
   ],
   "source": [
    "eta = 1.0\n",
    "M = 3\n",
    "gbm = l2boost(df, 'rent', eta, M)\n",
    "splits = gbm.splits()\n",
    "print(gbm.splits())\n",
    "\n",
    "df['deltas'] = df[['delta1','delta2','delta3']].sum(axis=1) # sum deltas\n",
    "\n",
    "df"
   ]
  },
  {
   "cell_type": "code",
   "execution_count": 4,
   "metadata": {},
   "outputs": [
    {
     "name": "stdout",
     "output_type": "stream",
     "text": [
      "[94576.     9895.     4190.833  3240.139]\n",
      "[307.532  99.474  64.737  56.922]\n",
      "[245.6    74.     54.333  42.   ]\n"
     ]
    }
   ],
   "source": [
    "np.set_printoptions(precision=3)\n",
    "print(mse(df, M))\n",
    "print(np.sqrt(mse(df, M)))\n",
    "print(mae(df, M))"
   ]
  },
  {
   "cell_type": "code",
   "execution_count": 5,
   "metadata": {},
   "outputs": [
    {
     "name": "stdout",
     "output_type": "stream",
     "text": [
      "750 & 1160 & 1418 & 1272 & 1180 & 1195 \\\\\n",
      "800 & 1200 & 1418 & 1272 & 1180 & 1195 \\\\\n",
      "850 & 1280 & 1418 & 1272 & 1334 & 1349 \\\\\n",
      "900 & 1450 & 1418 & 1272 & 1334 & 1349 \\\\\n",
      "950 & 2000 & 1418 & 2000 & 2061 & 2000 \\\\\n"
     ]
    }
   ],
   "source": [
    "F = df[['sqfeet','rent','F0','F1','F2','F3']]\n",
    "for i in range(len(F)):\n",
    "    print( \" & \".join([f\"{int(v)}\" for v in F.iloc[i,0:6]]), r\"\\\\\")"
   ]
  },
  {
   "cell_type": "code",
   "execution_count": 6,
   "metadata": {},
   "outputs": [
    {
     "name": "stdout",
     "output_type": "stream",
     "text": [
      "750 & 1160 & 1418 & -258 \\\\\n",
      "800 & 1200 & 1418 & -218 \\\\\n",
      "850 & 1280 & 1418 & -138 \\\\\n",
      "900 & 1450 & 1418 & 32 \\\\\n",
      "950 & 2000 & 1418 & 582 \\\\\n",
      "-145 & 1272 & -112 & -92 & 1180 & -20 & 15 & 1195 & -222 \\\\\n",
      "-145 & 1272 & -72 & -92 & 1180 & 20 & 15 & 1195 & -222 \\\\\n",
      "-145 & 1272 & 7 & 61 & 1334 & -54 & 15 & 1349 & -68 \\\\\n",
      "-145 & 1272 & 177 & 61 & 1334 & 115 & 15 & 1349 & -68 \\\\\n",
      "582 & 2000 & 0 & 61 & 2061 & -61 & -61 & 2000 & 582 \\\\\n"
     ]
    }
   ],
   "source": [
    "# manually print table in python\n",
    "# for small phone, make 2 tables\n",
    "for i in range(len(df)):\n",
    "    print( \" & \".join([f\"{int(v)}\" for v in df.iloc[i,0:4]]), r\"\\\\\")\n",
    "\n",
    "print\n",
    "for i in range(len(df)):\n",
    "    print( \" & \".join([f\"{int(v)}\" for v in df.iloc[i,4:]]), r\"\\\\\")"
   ]
  },
  {
   "cell_type": "markdown",
   "metadata": {},
   "source": [
    "## Plot F0 vs rent"
   ]
  },
  {
   "cell_type": "code",
   "execution_count": 7,
   "metadata": {},
   "outputs": [
    {
     "data": {
      "image/png": "[encoded data removed]",
      "text/plain": [
       "<Figure size 288x180 with 1 Axes>"
      ]
     },
     "metadata": {},
     "output_type": "display_data"
    }
   ],
   "source": [
    "f0 = df.rent.mean()\n",
    "fig, ax = plt.subplots(nrows=1, ncols=1, figsize=(4, 2.5), sharex=True)\n",
    "plt.tight_layout()\n",
    "ax.plot(df.sqfeet,df.rent,'o', linewidth=.8, markersize=4)\n",
    "ax.plot([df.sqfeet.min()-10,df.sqfeet.max()+10], [f0,f0],\n",
    "         linewidth=.8, linestyle='--', c='k')\n",
    "ax.set_xlim(df.sqfeet.min()-10,df.sqfeet.max()+10)\n",
    "ax.text(815, f0+15, r\"$f_0({\\bf x})$\", fontsize=20)\n",
    "\n",
    "ax.set_ylabel(r\"Rent ($y$)\", fontsize=14)\n",
    "ax.set_xlabel(r\"SqFeet (${\\bf x}$)\", fontsize=14)\n",
    "\n",
    "# draw arrows\n",
    "for x,y,yhat in zip(df.sqfeet,df.rent,df.F0):\n",
    "    draw_vector(ax, x, yhat, 0, y-yhat, df.rent.max()-df.rent.min())\n",
    "\n",
    "plt.show()"
   ]
  },
  {
   "cell_type": "markdown",
   "metadata": {},
   "source": [
    "## Plot delta predictions versus residuals"
   ]
  },
  {
   "cell_type": "code",
   "execution_count": 8,
   "metadata": {},
   "outputs": [
    {
     "data": {
      "image/png": "[encoded data removed]",
      "text/plain": [
       "<Figure size 720x252 with 3 Axes>"
      ]
     },
     "metadata": {},
     "output_type": "display_data"
    }
   ],
   "source": [
    "fig, axes = plt.subplots(nrows=1, ncols=3, figsize=(10, 3.5), sharey=True)\n",
    "\n",
    "axes[0].set_ylabel(r\"$y-\\hat y$\", fontsize=20)\n",
    "for a in range(3):\n",
    "    axes[a].set_xlabel(r\"SqFeet\", fontsize=14)\n",
    "    axes[a].set_xlim(df.sqfeet.min()-10,df.sqfeet.max()+10)\n",
    "\n",
    "plot_stump(axes[0], df.sqfeet, df.res1, df.delta1, splits[0], stage=1)\n",
    "\n",
    "plot_stump(axes[1], df.sqfeet, df.res2, df.delta2, splits[1], stage=2)\n",
    "\n",
    "plot_stump(axes[2], df.sqfeet, df.res3, df.delta3, splits[2], stage=3)\n",
    "\n",
    "plt.tight_layout()\n",
    "        \n",
    "plt.savefig('/tmp/t.svg')\n",
    "plt.show()"
   ]
  },
  {
   "cell_type": "code",
   "execution_count": 9,
   "metadata": {},
   "outputs": [
    {
     "data": {
      "text/html": [
       "<div>\n",
       "<style scoped>\n",
       "    .dataframe tbody tr th:only-of-type {\n",
       "        vertical-align: middle;\n",
       "    }\n",
       "\n",
       "    .dataframe tbody tr th {\n",
       "        vertical-align: top;\n",
       "    }\n",
       "\n",
       "    .dataframe thead th {\n",
       "        text-align: right;\n",
       "    }\n",
       "</style>\n",
       "<table border=\"1\" class=\"dataframe\">\n",
       "  <thead>\n",
       "    <tr style=\"text-align: right;\">\n",
       "      <th></th>\n",
       "      <th>delta1</th>\n",
       "      <th>delta2</th>\n",
       "      <th>delta3</th>\n",
       "    </tr>\n",
       "  </thead>\n",
       "  <tbody>\n",
       "    <tr>\n",
       "      <th>0</th>\n",
       "      <td>-145.5</td>\n",
       "      <td>-92.500000</td>\n",
       "      <td>15.416667</td>\n",
       "    </tr>\n",
       "    <tr>\n",
       "      <th>1</th>\n",
       "      <td>-145.5</td>\n",
       "      <td>-92.500000</td>\n",
       "      <td>15.416667</td>\n",
       "    </tr>\n",
       "    <tr>\n",
       "      <th>2</th>\n",
       "      <td>-145.5</td>\n",
       "      <td>61.666667</td>\n",
       "      <td>15.416667</td>\n",
       "    </tr>\n",
       "    <tr>\n",
       "      <th>3</th>\n",
       "      <td>-145.5</td>\n",
       "      <td>61.666667</td>\n",
       "      <td>15.416667</td>\n",
       "    </tr>\n",
       "    <tr>\n",
       "      <th>4</th>\n",
       "      <td>582.0</td>\n",
       "      <td>61.666667</td>\n",
       "      <td>-61.666667</td>\n",
       "    </tr>\n",
       "  </tbody>\n",
       "</table>\n",
       "</div>"
      ],
      "text/plain": [
       "   delta1     delta2     delta3\n",
       "0  -145.5 -92.500000  15.416667\n",
       "1  -145.5 -92.500000  15.416667\n",
       "2  -145.5  61.666667  15.416667\n",
       "3  -145.5  61.666667  15.416667\n",
       "4   582.0  61.666667 -61.666667"
      ]
     },
     "execution_count": 9,
     "metadata": {},
     "output_type": "execute_result"
    }
   ],
   "source": [
    "df[['delta1','delta2','delta3']]"
   ]
  },
  {
   "cell_type": "markdown",
   "metadata": {},
   "source": [
    "## Show MSE for various learning rates"
   ]
  },
  {
   "cell_type": "code",
   "execution_count": 15,
   "metadata": {},
   "outputs": [
    {
     "data": {
      "text/html": [
       "<div>\n",
       "<style scoped>\n",
       "    .dataframe tbody tr th:only-of-type {\n",
       "        vertical-align: middle;\n",
       "    }\n",
       "\n",
       "    .dataframe tbody tr th {\n",
       "        vertical-align: top;\n",
       "    }\n",
       "\n",
       "    .dataframe thead th {\n",
       "        text-align: right;\n",
       "    }\n",
       "</style>\n",
       "<table border=\"1\" class=\"dataframe\">\n",
       "  <thead>\n",
       "    <tr style=\"text-align: right;\">\n",
       "      <th></th>\n",
       "      <th>stage</th>\n",
       "      <th>mse_0.60</th>\n",
       "      <th>mse_0.70</th>\n",
       "      <th>mse_0.80</th>\n",
       "      <th>mse_0.90</th>\n",
       "    </tr>\n",
       "  </thead>\n",
       "  <tbody>\n",
       "    <tr>\n",
       "      <th>0</th>\n",
       "      <td>0</td>\n",
       "      <td>94576.000000</td>\n",
       "      <td>94576.000000</td>\n",
       "      <td>94576.000000</td>\n",
       "      <td>94576.000000</td>\n",
       "    </tr>\n",
       "    <tr>\n",
       "      <th>1</th>\n",
       "      <td>1</td>\n",
       "      <td>23443.960000</td>\n",
       "      <td>17516.290000</td>\n",
       "      <td>13282.240000</td>\n",
       "      <td>10741.810000</td>\n",
       "    </tr>\n",
       "    <tr>\n",
       "      <th>2</th>\n",
       "      <td>2</td>\n",
       "      <td>6087.542600</td>\n",
       "      <td>3086.510621</td>\n",
       "      <td>2063.193600</td>\n",
       "      <td>2672.101788</td>\n",
       "    </tr>\n",
       "    <tr>\n",
       "      <th>3</th>\n",
       "      <td>3</td>\n",
       "      <td>2478.410696</td>\n",
       "      <td>587.736483</td>\n",
       "      <td>399.423886</td>\n",
       "      <td>1578.549751</td>\n",
       "    </tr>\n",
       "  </tbody>\n",
       "</table>\n",
       "</div>"
      ],
      "text/plain": [
       "   stage      mse_0.60      mse_0.70      mse_0.80      mse_0.90\n",
       "0      0  94576.000000  94576.000000  94576.000000  94576.000000\n",
       "1      1  23443.960000  17516.290000  13282.240000  10741.810000\n",
       "2      2   6087.542600   3086.510621   2063.193600   2672.101788\n",
       "3      3   2478.410696    587.736483    399.423886   1578.549751"
      ]
     },
     "execution_count": 15,
     "metadata": {},
     "output_type": "execute_result"
    }
   ],
   "source": [
    "M = 3\n",
    "\n",
    "max_eta = 1\n",
    "min_eta = .6\n",
    "\n",
    "df_mse = pd.DataFrame(data={\"stage\":range(M+1)})\n",
    "\n",
    "for eta in np.arange(min_eta, max_eta, .1):\n",
    "    df = data() # fresh data\n",
    "    gbm = l2boost(df, 'rent', eta, M)\n",
    "    \n",
    "    df_mse[f'mse_{eta:.2f}'] = mse(df, M)\n",
    "\n",
    "df_mse"
   ]
  },
  {
   "cell_type": "code",
   "execution_count": 16,
   "metadata": {},
   "outputs": [
    {
     "name": "stdout",
     "output_type": "stream",
     "text": [
      "[2478.410696000002, 587.7364827037042, 399.42388622222086, 1578.5497509999998]\n",
      "Best index is  2 0.7999999999999999\n"
     ]
    },
    {
     "data": {
      "image/png": "[encoded data removed]",
      "text/plain": [
       "<Figure size 504x432 with 1 Axes>"
      ]
     },
     "metadata": {},
     "output_type": "display_data"
    }
   ],
   "source": [
    "fig, ax = plt.subplots(nrows=1, ncols=1, figsize=(7, 6), sharex=True)\n",
    "\n",
    "maxy = 20000\n",
    "\n",
    "mins = []\n",
    "for eta in np.arange(min_eta, max_eta, .1):\n",
    "    mins.append( np.min(df_mse[f'mse_{eta:.2f}']) )\n",
    "\n",
    "print (mins)\n",
    "min_eta_index = np.argmin(mins)\n",
    "print(\"Best index is \", min_eta_index, list(np.arange(min_eta, max_eta, .1))[min_eta_index])\n",
    "\n",
    "i = 0\n",
    "for eta in np.arange(min_eta, max_eta, .1):\n",
    "    color = 'grey'\n",
    "    lw = .8\n",
    "    ls = ':'\n",
    "    if i==min_eta_index:\n",
    "        color = bookcolors['blue']\n",
    "        lw = 1.7\n",
    "        ls = '-'\n",
    "    ax.plot(df_mse.stage,df_mse[f'mse_{eta:.2f}'],\n",
    "            linewidth=lw,\n",
    "            linestyle=ls,\n",
    "            c=color)\n",
    "    xloc = 1.2\n",
    "    yloc = (df_mse[f'mse_{eta:.2f}'].values[1] + df_mse[f'mse_{eta:.2f}'].values[2])/2\n",
    "    if yloc>maxy:\n",
    "        yloc = maxy-100\n",
    "        xloc +=  .5\n",
    "    ax.text(xloc, yloc, f\"$\\\\eta={eta:.1f}$\",\n",
    "            fontsize=16)\n",
    "    i += 1\n",
    "\n",
    "plt.axis([0,M,0,maxy])\n",
    "\n",
    "ax.set_ylabel(r\"Mean Squared Error\", fontsize=16)\n",
    "ax.set_xlabel(r\"Number of stages $M$\", fontsize=16)\n",
    "ax.set_title(r'Effect of learning rate $\\eta$ on MSE of $F_M({\\bf x})$', fontsize=16)\n",
    "ax.set_xticks(range(0,M+1))\n",
    "\n",
    "plt.tight_layout()\n",
    "plt.show()"
   ]
  },
  {
   "cell_type": "markdown",
   "metadata": {},
   "source": [
    "## Show composite model"
   ]
  },
  {
   "cell_type": "code",
   "execution_count": 12,
   "metadata": {},
   "outputs": [
    {
     "data": {
      "text/html": [
       "<div>\n",
       "<style scoped>\n",
       "    .dataframe tbody tr th:only-of-type {\n",
       "        vertical-align: middle;\n",
       "    }\n",
       "\n",
       "    .dataframe tbody tr th {\n",
       "        vertical-align: top;\n",
       "    }\n",
       "\n",
       "    .dataframe thead th {\n",
       "        text-align: right;\n",
       "    }\n",
       "</style>\n",
       "<table border=\"1\" class=\"dataframe\">\n",
       "  <thead>\n",
       "    <tr style=\"text-align: right;\">\n",
       "      <th></th>\n",
       "      <th>sqfeet</th>\n",
       "      <th>rent</th>\n",
       "      <th>F0</th>\n",
       "      <th>delta1</th>\n",
       "      <th>delta2</th>\n",
       "      <th>delta3</th>\n",
       "      <th>deltas</th>\n",
       "      <th>deltas12</th>\n",
       "      <th>deltas123</th>\n",
       "    </tr>\n",
       "  </thead>\n",
       "  <tbody>\n",
       "    <tr>\n",
       "      <th>0</th>\n",
       "      <td>750</td>\n",
       "      <td>1160</td>\n",
       "      <td>1418.0</td>\n",
       "      <td>-145.5</td>\n",
       "      <td>-92.500000</td>\n",
       "      <td>15.416667</td>\n",
       "      <td>-155.808333</td>\n",
       "      <td>-166.600000</td>\n",
       "      <td>-155.808333</td>\n",
       "    </tr>\n",
       "    <tr>\n",
       "      <th>1</th>\n",
       "      <td>800</td>\n",
       "      <td>1200</td>\n",
       "      <td>1418.0</td>\n",
       "      <td>-145.5</td>\n",
       "      <td>-92.500000</td>\n",
       "      <td>15.416667</td>\n",
       "      <td>-155.808333</td>\n",
       "      <td>-166.600000</td>\n",
       "      <td>-155.808333</td>\n",
       "    </tr>\n",
       "    <tr>\n",
       "      <th>2</th>\n",
       "      <td>850</td>\n",
       "      <td>1280</td>\n",
       "      <td>1418.0</td>\n",
       "      <td>-145.5</td>\n",
       "      <td>61.666667</td>\n",
       "      <td>15.416667</td>\n",
       "      <td>-47.891667</td>\n",
       "      <td>-58.683333</td>\n",
       "      <td>-47.891667</td>\n",
       "    </tr>\n",
       "    <tr>\n",
       "      <th>3</th>\n",
       "      <td>900</td>\n",
       "      <td>1450</td>\n",
       "      <td>1418.0</td>\n",
       "      <td>-145.5</td>\n",
       "      <td>61.666667</td>\n",
       "      <td>15.416667</td>\n",
       "      <td>-47.891667</td>\n",
       "      <td>-58.683333</td>\n",
       "      <td>-47.891667</td>\n",
       "    </tr>\n",
       "    <tr>\n",
       "      <th>4</th>\n",
       "      <td>950</td>\n",
       "      <td>2000</td>\n",
       "      <td>1418.0</td>\n",
       "      <td>582.0</td>\n",
       "      <td>61.666667</td>\n",
       "      <td>-61.666667</td>\n",
       "      <td>407.400000</td>\n",
       "      <td>450.566667</td>\n",
       "      <td>407.400000</td>\n",
       "    </tr>\n",
       "  </tbody>\n",
       "</table>\n",
       "</div>"
      ],
      "text/plain": [
       "   sqfeet  rent      F0  delta1     delta2     delta3      deltas    deltas12  \\\n",
       "0     750  1160  1418.0  -145.5 -92.500000  15.416667 -155.808333 -166.600000   \n",
       "1     800  1200  1418.0  -145.5 -92.500000  15.416667 -155.808333 -166.600000   \n",
       "2     850  1280  1418.0  -145.5  61.666667  15.416667  -47.891667  -58.683333   \n",
       "3     900  1450  1418.0  -145.5  61.666667  15.416667  -47.891667  -58.683333   \n",
       "4     950  2000  1418.0   582.0  61.666667 -61.666667  407.400000  450.566667   \n",
       "\n",
       "    deltas123  \n",
       "0 -155.808333  \n",
       "1 -155.808333  \n",
       "2  -47.891667  \n",
       "3  -47.891667  \n",
       "4  407.400000  "
      ]
     },
     "execution_count": 12,
     "metadata": {},
     "output_type": "execute_result"
    }
   ],
   "source": [
    "# Hideous manual computation of composite graph but...\n",
    "\n",
    "M = 3\n",
    "eta = 1.0\n",
    "df = data()\n",
    "gbm = l2boost(df, 'rent', eta, M)\n",
    "df['deltas12'] = 0.7 * df[['delta1','delta2']].sum(axis=1)\n",
    "df['deltas123'] = 0.7 * df[['delta1','delta2','delta3']].sum(axis=1)\n",
    "df['deltas'] = 0.7 * df[['delta1','delta2','delta3']].sum(axis=1) # sum deltas\n",
    "\n",
    "df[['sqfeet','rent','F0','delta1','delta2','delta3','deltas','deltas12','deltas123']]"
   ]
  },
  {
   "cell_type": "code",
   "execution_count": 13,
   "metadata": {},
   "outputs": [
    {
     "data": {
      "image/png": "[encoded data removed]",
      "text/plain": [
       "<Figure size 288x216 with 1 Axes>"
      ]
     },
     "metadata": {},
     "output_type": "display_data"
    }
   ],
   "source": [
    "fig, ax = plt.subplots(nrows=1, ncols=1, figsize=(4, 3))\n",
    "\n",
    "plot_deltas(ax, df, gbm, 3)\n",
    "\n",
    "plt.tight_layout()\n",
    "plt.show()"
   ]
  },
  {
   "cell_type": "code",
   "execution_count": 14,
   "metadata": {},
   "outputs": [
    {
     "data": {
      "image/png": "[encoded data removed]",
      "text/plain": [
       "<Figure size 799.2x252 with 3 Axes>"
      ]
     },
     "metadata": {},
     "output_type": "display_data"
    }
   ],
   "source": [
    "fig, axes = plt.subplots(nrows=1, ncols=3, figsize=(11.1, 3.5))\n",
    "\n",
    "plot_composite(axes[0], df, gbm, 1)\n",
    "plot_composite(axes[1], df, gbm, 2)\n",
    "plot_composite(axes[2], df, gbm, 3)\n",
    "\n",
    "plt.tight_layout()\n",
    "plt.savefig('/tmp/u.svg')\n",
    "plt.show()"
   ]
  },
  {
   "cell_type": "code",
   "execution_count": null,
   "metadata": {},
   "outputs": [],
   "source": []
  }
 ],
 "metadata": {
  "kernelspec": {
   "display_name": "Python 3",
   "language": "python",
   "name": "python3"
  },
  "language_info": {
   "codemirror_mode": {
    "name": "ipython",
    "version": 3
   },
   "file_extension": ".py",
   "mimetype": "text/x-python",
   "name": "python",
   "nbconvert_exporter": "python",
   "pygments_lexer": "ipython3",
   "version": "3.6.5"
  }
 },
 "nbformat": 4,
 "nbformat_minor": 2
}
